{
  "nbformat": 4,
  "nbformat_minor": 0,
  "metadata": {
    "kernelspec": {
      "display_name": "Python 3",
      "language": "python",
      "name": "python3"
    },
    "language_info": {
      "codemirror_mode": {
        "name": "ipython",
        "version": 3
      },
      "file_extension": ".py",
      "mimetype": "text/x-python",
      "name": "python",
      "nbconvert_exporter": "python",
      "pygments_lexer": "ipython3",
      "version": "3.6.8"
    },
    "colab": {
      "name": "[phuc.tran]Movie review.ipynb",
      "provenance": [],
      "collapsed_sections": [],
      "toc_visible": true,
      "include_colab_link": true
    }
  },
  "cells": [
    {
      "cell_type": "markdown",
      "metadata": {
        "id": "view-in-github",
        "colab_type": "text"
      },
      "source": [
        "<a href=\"https://colab.research.google.com/github/PhucDuy/360-Photos-Experience/blob/master/%5Bphuc_tran%5DMovie_review.ipynb\" target=\"_parent\"><img src=\"https://colab.research.google.com/assets/colab-badge.svg\" alt=\"Open In Colab\"/></a>"
      ]
    },
    {
      "cell_type": "markdown",
      "metadata": {
        "id": "9MDEjcL7Lgs2",
        "colab_type": "text"
      },
      "source": [
        "\n",
        "# Movie Reviews Prediction"
      ]
    },
    {
      "cell_type": "markdown",
      "metadata": {
        "id": "ZOywA8bw_Sej",
        "colab_type": "text"
      },
      "source": [
        "## Logistic regression with Sklearn"
      ]
    },
    {
      "cell_type": "markdown",
      "metadata": {
        "id": "WTEBagIJ_fXp",
        "colab_type": "text"
      },
      "source": [
        "### Import data and library"
      ]
    },
    {
      "cell_type": "code",
      "metadata": {
        "id": "VQuoh8HSOs9F",
        "colab_type": "code",
        "outputId": "a92a3da4-af39-43a9-b46e-95d854f849e0",
        "colab": {
          "base_uri": "https://localhost:8080/",
          "height": 124
        }
      },
      "source": [
        "from google.colab import drive\n",
        "drive.mount('/content/drive')"
      ],
      "execution_count": 0,
      "outputs": [
        {
          "output_type": "stream",
          "text": [
            "Go to this URL in a browser: https://accounts.google.com/o/oauth2/auth?client_id=947318989803-6bn6qk8qdgf4n4g3pfee6491hc0brc4i.apps.googleusercontent.com&redirect_uri=urn%3aietf%3awg%3aoauth%3a2.0%3aoob&response_type=code&scope=email%20https%3a%2f%2fwww.googleapis.com%2fauth%2fdocs.test%20https%3a%2f%2fwww.googleapis.com%2fauth%2fdrive%20https%3a%2f%2fwww.googleapis.com%2fauth%2fdrive.photos.readonly%20https%3a%2f%2fwww.googleapis.com%2fauth%2fpeopleapi.readonly\n",
            "\n",
            "Enter your authorization code:\n",
            "··········\n",
            "Mounted at /content/drive\n"
          ],
          "name": "stdout"
        }
      ]
    },
    {
      "cell_type": "code",
      "metadata": {
        "id": "K04MloarbvBs",
        "colab_type": "code",
        "colab": {}
      },
      "source": [
        "# Import pandas, numpy and the dataset\n",
        "import numpy as np\n",
        "import pandas as pd\n",
        "import matplotlib.pyplot as plt\n"
      ],
      "execution_count": 0,
      "outputs": []
    },
    {
      "cell_type": "code",
      "metadata": {
        "id": "KeWTMVcyLgt4",
        "colab_type": "code",
        "outputId": "c003e2d3-9037-4a51-b513-7c26e4447a8a",
        "colab": {
          "base_uri": "https://localhost:8080/",
          "height": 207
        }
      },
      "source": [
        "import nltk\n",
        "nltk.download('stopwords')\n",
        "nltk.download('punkt')\n",
        "nltk.download('wordnet')\n",
        "nltk.download('averaged_perceptron_tagger')\n",
        "nltk.download('vader_lexicon')\n",
        "  "
      ],
      "execution_count": 0,
      "outputs": [
        {
          "output_type": "stream",
          "text": [
            "[nltk_data] Downloading package stopwords to /root/nltk_data...\n",
            "[nltk_data]   Unzipping corpora/stopwords.zip.\n",
            "[nltk_data] Downloading package punkt to /root/nltk_data...\n",
            "[nltk_data]   Unzipping tokenizers/punkt.zip.\n",
            "[nltk_data] Downloading package wordnet to /root/nltk_data...\n",
            "[nltk_data]   Unzipping corpora/wordnet.zip.\n",
            "[nltk_data] Downloading package averaged_perceptron_tagger to\n",
            "[nltk_data]     /root/nltk_data...\n",
            "[nltk_data]   Unzipping taggers/averaged_perceptron_tagger.zip.\n",
            "[nltk_data] Downloading package vader_lexicon to /root/nltk_data...\n"
          ],
          "name": "stdout"
        },
        {
          "output_type": "execute_result",
          "data": {
            "text/plain": [
              "True"
            ]
          },
          "metadata": {
            "tags": []
          },
          "execution_count": 4
        }
      ]
    },
    {
      "cell_type": "code",
      "metadata": {
        "id": "l9YBSN51z1-i",
        "colab_type": "code",
        "outputId": "bc6b9486-b9a3-4c57-d89c-f2c32a899b95",
        "colab": {
          "base_uri": "https://localhost:8080/",
          "height": 504
        }
      },
      "source": [
        "!pip install contractions\n",
        "!pip install autocorrect\n"
      ],
      "execution_count": 0,
      "outputs": [
        {
          "output_type": "stream",
          "text": [
            "Collecting contractions\n",
            "  Downloading https://files.pythonhosted.org/packages/85/41/c3dfd5feb91a8d587ed1a59f553f07c05f95ad4e5d00ab78702fbf8fe48a/contractions-0.0.24-py2.py3-none-any.whl\n",
            "Collecting textsearch\n",
            "  Downloading https://files.pythonhosted.org/packages/42/a8/03407021f9555043de5492a2bd7a35c56cc03c2510092b5ec018cae1bbf1/textsearch-0.0.17-py2.py3-none-any.whl\n",
            "Collecting Unidecode\n",
            "\u001b[?25l  Downloading https://files.pythonhosted.org/packages/d0/42/d9edfed04228bacea2d824904cae367ee9efd05e6cce7ceaaedd0b0ad964/Unidecode-1.1.1-py2.py3-none-any.whl (238kB)\n",
            "\u001b[K     |████████████████████████████████| 245kB 3.7MB/s \n",
            "\u001b[?25hCollecting pyahocorasick\n",
            "\u001b[?25l  Downloading https://files.pythonhosted.org/packages/f4/9f/f0d8e8850e12829eea2e778f1c90e3c53a9a799b7f412082a5d21cd19ae1/pyahocorasick-1.4.0.tar.gz (312kB)\n",
            "\u001b[K     |████████████████████████████████| 317kB 22.1MB/s \n",
            "\u001b[?25hBuilding wheels for collected packages: pyahocorasick\n",
            "  Building wheel for pyahocorasick (setup.py) ... \u001b[?25l\u001b[?25hdone\n",
            "  Created wheel for pyahocorasick: filename=pyahocorasick-1.4.0-cp36-cp36m-linux_x86_64.whl size=81699 sha256=623f29e619cb76e2a6664653fd899bd2daea527beb41ff4887938222219aa2e6\n",
            "  Stored in directory: /root/.cache/pip/wheels/0a/90/61/87a55f5b459792fbb2b7ba6b31721b06ff5cf6bde541b40994\n",
            "Successfully built pyahocorasick\n",
            "Installing collected packages: Unidecode, pyahocorasick, textsearch, contractions\n",
            "Successfully installed Unidecode-1.1.1 contractions-0.0.24 pyahocorasick-1.4.0 textsearch-0.0.17\n",
            "Collecting autocorrect\n",
            "\u001b[?25l  Downloading https://files.pythonhosted.org/packages/a9/b0/a1d628fa192e8ebf124b4cebc2a42b4e3aa65b8052fdf4888e04fadf3e8d/autocorrect-1.1.0.tar.gz (1.8MB)\n",
            "\u001b[K     |████████████████████████████████| 1.8MB 2.7MB/s \n",
            "\u001b[?25hBuilding wheels for collected packages: autocorrect\n",
            "  Building wheel for autocorrect (setup.py) ... \u001b[?25l\u001b[?25hdone\n",
            "  Created wheel for autocorrect: filename=autocorrect-1.1.0-cp36-none-any.whl size=1810772 sha256=513bc85206f726b86570c20e4375840d9fa4ad0e005fc927fa1f6136f6b34b35\n",
            "  Stored in directory: /root/.cache/pip/wheels/78/7f/b1/527522820ae623df6a2dbe14f778d23adaea4bebe43f7ebcfe\n",
            "Successfully built autocorrect\n",
            "Installing collected packages: autocorrect\n",
            "Successfully installed autocorrect-1.1.0\n"
          ],
          "name": "stdout"
        }
      ]
    },
    {
      "cell_type": "markdown",
      "metadata": {
        "id": "2QlFYgmy_oT1",
        "colab_type": "text"
      },
      "source": [
        "### Read data and clean up"
      ]
    },
    {
      "cell_type": "code",
      "metadata": {
        "id": "QPtgQIuhLgtd",
        "colab_type": "code",
        "colab": {}
      },
      "source": [
        "# Read file \n",
        "data = pd.read_csv('/content/drive/My Drive/FTMLE - Tonga/Data/movie_review.csv', encoding='utf-8', sep='\\t')\n",
        "data = data"
      ],
      "execution_count": 0,
      "outputs": []
    },
    {
      "cell_type": "code",
      "metadata": {
        "id": "2d-3kNPeehwT",
        "colab_type": "code",
        "outputId": "bf00d532-12aa-4ab7-9f16-560d1128e96a",
        "colab": {
          "base_uri": "https://localhost:8080/",
          "height": 348
        }
      },
      "source": [
        "data.head(10)"
      ],
      "execution_count": 0,
      "outputs": [
        {
          "output_type": "execute_result",
          "data": {
            "text/html": [
              "<div>\n",
              "<style scoped>\n",
              "    .dataframe tbody tr th:only-of-type {\n",
              "        vertical-align: middle;\n",
              "    }\n",
              "\n",
              "    .dataframe tbody tr th {\n",
              "        vertical-align: top;\n",
              "    }\n",
              "\n",
              "    .dataframe thead th {\n",
              "        text-align: right;\n",
              "    }\n",
              "</style>\n",
              "<table border=\"1\" class=\"dataframe\">\n",
              "  <thead>\n",
              "    <tr style=\"text-align: right;\">\n",
              "      <th></th>\n",
              "      <th>id</th>\n",
              "      <th>review</th>\n",
              "      <th>sentiment</th>\n",
              "    </tr>\n",
              "  </thead>\n",
              "  <tbody>\n",
              "    <tr>\n",
              "      <th>0</th>\n",
              "      <td>5814_8</td>\n",
              "      <td>With all this stuff going down at the moment w...</td>\n",
              "      <td>1</td>\n",
              "    </tr>\n",
              "    <tr>\n",
              "      <th>1</th>\n",
              "      <td>2381_9</td>\n",
              "      <td>\\The Classic War of the Worlds\\\" by Timothy Hi...</td>\n",
              "      <td>1</td>\n",
              "    </tr>\n",
              "    <tr>\n",
              "      <th>2</th>\n",
              "      <td>7759_3</td>\n",
              "      <td>The film starts with a manager (Nicholas Bell)...</td>\n",
              "      <td>0</td>\n",
              "    </tr>\n",
              "    <tr>\n",
              "      <th>3</th>\n",
              "      <td>3630_4</td>\n",
              "      <td>It must be assumed that those who praised this...</td>\n",
              "      <td>0</td>\n",
              "    </tr>\n",
              "    <tr>\n",
              "      <th>4</th>\n",
              "      <td>9495_8</td>\n",
              "      <td>Superbly trashy and wondrously unpretentious 8...</td>\n",
              "      <td>1</td>\n",
              "    </tr>\n",
              "    <tr>\n",
              "      <th>5</th>\n",
              "      <td>8196_8</td>\n",
              "      <td>I dont know why people think this is such a ba...</td>\n",
              "      <td>1</td>\n",
              "    </tr>\n",
              "    <tr>\n",
              "      <th>6</th>\n",
              "      <td>7166_2</td>\n",
              "      <td>This movie could have been very good, but come...</td>\n",
              "      <td>0</td>\n",
              "    </tr>\n",
              "    <tr>\n",
              "      <th>7</th>\n",
              "      <td>319_1</td>\n",
              "      <td>A friend of mine bought this film for Â£1, and...</td>\n",
              "      <td>0</td>\n",
              "    </tr>\n",
              "    <tr>\n",
              "      <th>8</th>\n",
              "      <td>8713_10</td>\n",
              "      <td>&lt;br /&gt;&lt;br /&gt;This movie is full of references. ...</td>\n",
              "      <td>1</td>\n",
              "    </tr>\n",
              "    <tr>\n",
              "      <th>9</th>\n",
              "      <td>2486_3</td>\n",
              "      <td>What happens when an army of wetbacks, towelhe...</td>\n",
              "      <td>0</td>\n",
              "    </tr>\n",
              "  </tbody>\n",
              "</table>\n",
              "</div>"
            ],
            "text/plain": [
              "        id                                             review  sentiment\n",
              "0   5814_8  With all this stuff going down at the moment w...          1\n",
              "1   2381_9  \\The Classic War of the Worlds\\\" by Timothy Hi...          1\n",
              "2   7759_3  The film starts with a manager (Nicholas Bell)...          0\n",
              "3   3630_4  It must be assumed that those who praised this...          0\n",
              "4   9495_8  Superbly trashy and wondrously unpretentious 8...          1\n",
              "5   8196_8  I dont know why people think this is such a ba...          1\n",
              "6   7166_2  This movie could have been very good, but come...          0\n",
              "7    319_1  A friend of mine bought this film for Â£1, and...          0\n",
              "8  8713_10  <br /><br />This movie is full of references. ...          1\n",
              "9   2486_3  What happens when an army of wetbacks, towelhe...          0"
            ]
          },
          "metadata": {
            "tags": []
          },
          "execution_count": 7
        }
      ]
    },
    {
      "cell_type": "code",
      "metadata": {
        "id": "ikU5xj0jh66n",
        "colab_type": "code",
        "colab": {}
      },
      "source": [
        "def print_full(x):\n",
        "    pd.set_option('display.max_rows', len(x))\n",
        "    pd.set_option('display.max_columns', None)\n",
        "    pd.set_option('display.width', 2000)\n",
        "    pd.set_option('display.float_format', '{:20,.2f}'.format)\n",
        "    pd.set_option('display.max_colwidth', -1)\n",
        "    print(x)\n",
        "    pd.reset_option('display.max_rows')\n",
        "    pd.reset_option('display.max_columns')\n",
        "    pd.reset_option('display.width')\n",
        "    pd.reset_option('display.float_format')\n",
        "    pd.reset_option('display.max_colwidth')\n"
      ],
      "execution_count": 0,
      "outputs": []
    },
    {
      "cell_type": "code",
      "metadata": {
        "id": "HoPF9gkUeQVP",
        "colab_type": "code",
        "colab": {}
      },
      "source": [
        "# Drop id\n",
        "data.drop(labels=['id'], axis=1, inplace=True)"
      ],
      "execution_count": 0,
      "outputs": []
    },
    {
      "cell_type": "code",
      "metadata": {
        "id": "-RnOTy4KemGW",
        "colab_type": "code",
        "outputId": "5a13c0b2-e9bd-49ef-8c6e-4481f31afe61",
        "colab": {
          "base_uri": "https://localhost:8080/",
          "height": 89
        }
      },
      "source": [
        "test_text = data.iloc[data['review'].str.len().idxmax()].iloc[0]\n",
        "print_full(test_text)"
      ],
      "execution_count": 0,
      "outputs": [
        {
          "output_type": "stream",
          "text": [
            "Match 1: Tag Team Table Match Bubba Ray and Spike Dudley vs Eddie Guerrero and Chris Benoit Bubba Ray and Spike Dudley started things off with a Tag Team Table Match against Eddie Guerrero and Chris Benoit. According to the rules of the match, both opponents have to go through tables in order to get the win. Benoit and Guerrero heated up early on by taking turns hammering first Spike and then Bubba Ray. A German suplex by Benoit to Bubba took the wind out of the Dudley brother. Spike tried to help his brother, but the referee restrained him while Benoit and Guerrero ganged up on him in the corner. With Benoit stomping away on Bubba, Guerrero set up a table outside. Spike dashed into the ring and somersaulted over the top rope onto Guerrero on the outside! After recovering and taking care of Spike, Guerrero slipped a table into the ring and helped the Wolverine set it up. The tandem then set up for a double superplex from the middle rope which would have put Bubba through the table, but Spike knocked the table over right before his brother came crashing down! Guerrero and Benoit propped another table in the corner and tried to Irish Whip Spike through it, but Bubba dashed in and blocked his brother. Bubba caught fire and lifted both opponents into back body drops! Bubba slammed Guerrero and Spike stomped on the Wolverine from off the top rope. Bubba held Benoit at bay for Spike to soar into the Wassup! headbutt! Shortly after, Benoit latched Spike in the Crossface, but the match continued even after Spike tapped out. Bubba came to his brother's rescue and managed to sprawl Benoit on a table. Bubba leapt from the middle rope, but Benoit moved and sent Bubba crashing through the wood! But because his opponents didn't force him through the table, Bubba was allowed to stay in the match. The first man was eliminated shortly after, though, as Spike put Eddie through a table with a Dudley Dawg from the ring apron to the outside! Benoit put Spike through a table moments later to even the score. Within seconds, Bubba nailed a Bubba Bomb that put Benoit through a table and gave the Dudleys the win! Winner: Bubba Ray and Spike Dudley<br /><br />Match 2: Cruiserweight Championship Jamie Noble vs Billy Kidman Billy Kidman challenged Jamie Noble, who brought Nidia with him to the ring, for the Cruiserweight Championship. Noble and Kidman locked up and tumbled over the ring, but raced back inside and grappled some more. When Kidman thwarted all Noble's moves, Noble fled outside the ring where Nidia gave him some encouragement. The fight spread outside the ring and Noble threw his girlfriend into the challenger. Kidman tossed Nidia aside but was taken down with a modified arm bar. Noble continued to attack Kidman's injured arm back in the ring. Kidman's injured harm hampered his offense, but he continued to battle hard. Noble tried to put Kidman away with a powerbomb but the challenger countered into a facebuster. Kidman went to finish things with a Shooting Star Press, but Noble broke up the attempt. Kidman went for the Shooting Star Press again, but this time Noble just rolled out of harm's way. Noble flipped Kidman into a power bomb soon after and got the pin to retain his WWE Cruiserweight Championship! Winner: Jamie Noble<br /><br />Match 3: European Championship William Regal vs Jeff Hardy William Regal took on Jeff Hardy next in an attempt to win back the European Championship. Jeff catapulted Regal over the top rope then took him down with a hurracanrana off the ring apron. Back in the ring, Jeff hit the Whisper in the wind to knock Regal for a loop. Jeff went for the Swanton Bomb, but Regal got his knees up to hit Jeff with a devastating shot. Jeff managed to surprise Regal with a quick rollup though and got the pin to keep the European Championship! Regal started bawling at seeing Hardy celebrate on his way back up the ramp. Winner: Jeff Hardy<br /><br />Match 4: Chris Jericho vs John Cena Chris Jericho had promised to end John Cena's career in their match at Vengeance, which came up next. Jericho tried to teach Cena a lesson as their match began by suplexing him to the mat. Jericho continued to knock Cena around the ring until his cockiness got the better of him. While on the top rope, Jericho began to showboat and allowed Cena to grab him for a superplex! Cena followed with a tilt-a-whirl slam but was taken down with a nasty dropkick to the gut. The rookie recovered and hit a belly to belly suplex but couldn't put Y2J away. Jericho launched into the Lionsault but Cena dodged the move. Jericho nailed a bulldog and then connected on the Lionsault, but did not go for the cover. He goaded Cena to his feet so he could put on the Walls of Jericho. Cena had other ideas, reversing the move into a pin attempt and getting the 1-2-3! Jericho went berserk after the match. Winner: John Cena<br /><br />Match 5: Intercontinental Championship RVD vs Brock Lesnar via disqualification The Next Big Thing and Mr. Pay-Per-View tangled with the Intercontinental Championship on the line. Brock grabbed the title from the ref and draped it over his shoulder momentarily while glaring at RVD. Van Dam 's quickness gave Brock fits early on. The big man rolled out of the ring and kicked the steel steps out of frustration. Brock pulled himself together and began to take charge. With Paul Heyman beaming at ringside, Brock slammed RVD to the hard floor outside the ring. From there, Brock began to overpower RVD, throwing him with ease over the top rope. RVD landed painfully on his back, then had to suffer from having his spine cracked against the steel ring steps. The fight returned to the ring with Brock squeezing RVD around the ribs. RVD broke away and soon after leveled Brock with a kick to the temple. RVD followed with the Rolling Thunder but Brock managed to kick out after a two-count. The fight looked like it might be over soon as RVD went for a Five-Star Frog Splash. Brock, though, hoisted Van Dam onto his shoulder and went for the F-5, but RVD whirled Brock into a DDT and followed with the Frog Splash! He went for the pin, but Heyman pulled the ref from the ring! The ref immediately called for a disqualification and soon traded blows with Heyman! After, RVD leapt onto Brock from the top rope and then threatened to hit the Van Terminator! Heyman grabbed RVD's leg and Brock picked up the champ and this time connected with the F-5 onto a steel chair! Winner: RVD<br /><br />Match 6: Booker T vs the Big Show Booker T faced the Big Show one-on-one next. Show withstood Booker T's kicks and punches and slapped Booker into the corner. After being thrown from the ring, Booker picked up a chair at ringside, but Big Show punched it back into Booker's face. Booker tried to get back into the game by choking Show with a camera cable at ringside. Booker smashed a TV monitor from the Spanish announcers' position into Show's skull, then delivered a scissors kick that put both men through the table! Booker crawled back into the ring and Big Show staggered in moments later. Show grabbed Booker's throat but was met by a low blow and a kick to the face. Booker climbed the top rope and nailed a somersaulting leg drop to get the pin! Winner: Booker T<br /><br />Announcement: Triple H entered the ring to a thunderous ovation as fans hoped to learn where The Game would end up competing. Before he could speak, Eric Bishoff stopped The Game to apologize for getting involved in his personal business. If Triple H signed with RAW, Bischoff promised his personal life would never come into play again. Bischoff said he's spent the past two years networking in Hollywood. He said everyone was looking for the next breakout WWE Superstar, and they were all talking about Triple H. Bischoff guaranteed that if Triple H signed with RAW, he'd be getting top opportunities coming his way. Stephanie McMahon stepped out to issue her own pitch. She said that because of her personal history with Triple H, the two of them know each other very well. She said the two of them were once unstoppable and they can be again. Bischoff cut her off and begged her to stop. Stephanie cited that Triple H once told her how Bischoff said Triple H had no talent and no charisma. Bischoff said he was young at the time and didn't know what he had, but he still has a lot more experience that Stephanie. The two continued to bicker back and forth, until Triple H stepped up with his microphone. The Game said it would be easy to say \\screw you\\\" to either one of them. Triple H went to shake Bischoff's hand, but pulled it away. He said he would rather go with the devil he knows, rather than the one he doesn't know. Before he could go any further, though, Shawn Michaels came out to shake things up. HBK said the last thing he wanted to do was cause any trouble. He didn't want to get involved, but he remembered pledging to bring Triple H to the nWo. HBK said there's nobody in the world that Triple H is better friends with. HBK told his friend to imagine the two back together again, making Bischoff's life a living hell. Triple H said that was a tempting offer. He then turned and hugged HBK, making official his switch to RAW! Triple H and HBK left, and Bischoff gloated over his victory. Bischoff said the difference between the two of them is that he's got testicles and she doesn't. Stephanie whacked Bischoff on the side of the head and left!<br /><br />Match 7: Tag Team Championship Match Christian and Lance Storm vs Hollywood Hogan and Edge The match started with loud \\\"USA\\\" chants and with Hogan shoving Christian through the ropes and out of the ring. The Canadians took over from there. But Edge scored a kick to Christian's head and planted a facebuster on Storm to get the tag to Hogan. Hogan began to Hulk up and soon caught Christian with a big boot and a leg drop! Storm broke up the count and Christian tossed Hogan from the ring where Storm superkicked the icon. Edge tagged in soon after and dropped both opponents. He speared both of them into the corner turnbuckles, but missed a spear on Strom and hit the ref hard instead. Edge nailed a DDT, but the ref was down and could not count. Test raced down and took down Hogan then leveled Edge with a boot. Storm tried to get the pin, but Edge kicked out after two. Riksihi sprinted in to fend off Test, allowing Edge to recover and spear Storm. Christian distracted the ref, though, and Y2J dashed in and clocked Edge with the Tag Team Championship! Storm rolled over and got the pinfall to win the title! Winners and New Tag Team Champions: Christian and Lance Storm<br /><br />Match 8: WWE Undisputed Championship Triple Threat Match. The Rock vs Kurt Angle and the Undertaker Three of WWE's most successful superstars lined up against each other in a Triple Threat Match with the Undisputed Championship hanging in the balance. Taker and The Rock got face to face with Kurt Angle begging for some attention off to the side. He got attention in the form of a beat down form the two other men. Soon after, Taker spilled out of the ring and The Rock brawled with Angle. Angle gave a series of suplexes that took down Rock, but the Great One countered with a DDT that managed a two-count. The fight continued outside the ring with Taker coming to life and clotheslining Angle and repeatedly smacking The Rock. Taker and Rock got into it back into the ring, and Taker dropped The Rock with a sidewalk slam to get a two-count. Rock rebounded, grabbed Taker by the throat and chokeslammed him! Angle broke up the pin attempt that likely would have given The Rock the title. The Rock retaliated by latching on the ankle lock to Kurt Angle. Angle reversed the move and Rock Bottomed the People's Champion. Soon after, The Rock disposed of Angle and hit the People's Elbow on the Undertaker. Angle tried to take advantage by disabling the Great One outside the ring and covering Taker, who kicked out after a two count. Outside the ring, Rock took a big swig from a nearby water bottle and spewed the liquid into Taker's face to blind the champion. Taker didn't stay disabled for long, and managed to overpower Rock and turn his attention to Angle. Taker landed a guillotine leg drop onto Angle, laying on the ring apron. The Rock picked himself up just in time to break up a pin attempt on Kurt Angle. Taker nailed Rock with a DDT and set him up for a chokeslam. ANgle tried sneaking up with a steel chair, but Taker caught on to that tomfoolery and smacked it out of his hands. The referee got caught in the ensuing fire and didn't see Angle knock Taker silly with a steel chair. Angle went to cover Taker as The Rock lay prone, but the Dead Man somehow got his shoulder up. Angle tried to pin Rock, but he too kicked out. The Rock got up and landed Angle in the sharpshooter! Angle looked like he was about to tap, but Taker kicked The Rock out of the submission hold. Taker picked Rock up and crashed him with the Last Ride. While the Dead Man covered him for the win, Angle raced in and picked Taker up in the ankle lock! Taker went delirious with pain, but managed to counter. He picked Angle up for the last ride, but Angle put on a triangle choke! It looked like Taker was about to pass out, but The Rock broke Angle's hold only to find himself caught in the ankle lock. Rock got out of the hold and watched Taker chokeslam Angle. Rocky hit the Rock Bottom, but Taker refused to go down and kicked out. Angle whirled Taker up into the Angle Slam but was Rock Bottomed by the Great One and pinned! Winner and New WWE Champion: The Rock<br /><br />~Finally there is a decent PPV! Lately the PPV weren't very good, but this one was a winner. I give this PPV a A-<br /><br />\"\n"
          ],
          "name": "stdout"
        },
        {
          "output_type": "stream",
          "text": [
            "/usr/local/lib/python3.6/dist-packages/ipykernel_launcher.py:6: FutureWarning: Passing a negative integer is deprecated in version 1.0 and will not be supported in future version. Instead, use None to not limit the column width.\n",
            "  \n"
          ],
          "name": "stderr"
        }
      ]
    },
    {
      "cell_type": "markdown",
      "metadata": {
        "id": "cMCrBqdhi3JT",
        "colab_type": "text"
      },
      "source": [
        "### Text Processing"
      ]
    },
    {
      "cell_type": "code",
      "metadata": {
        "id": "F6GvQ2HXjOZ1",
        "colab_type": "code",
        "colab": {}
      },
      "source": [
        "from nltk.corpus import stopwords\n",
        "from nltk.tokenize import word_tokenize, sent_tokenize\n",
        "\n",
        "stop = stopwords.words('english')"
      ],
      "execution_count": 0,
      "outputs": []
    },
    {
      "cell_type": "markdown",
      "metadata": {
        "id": "Z01BpBz7Lgt-",
        "colab_type": "text"
      },
      "source": [
        "#### Removing special characters and \"trash\"\n"
      ]
    },
    {
      "cell_type": "code",
      "metadata": {
        "id": "t9-gDY9MG5Qg",
        "colab_type": "code",
        "outputId": "76308b60-e473-45c4-87d2-a407673bdba4",
        "colab": {
          "base_uri": "https://localhost:8080/",
          "height": 797
        }
      },
      "source": [
        "!pip install beautifulsoup4\n",
        "!pip install -U spacy\n",
        "!python -m spacy download en_core_web_sm"
      ],
      "execution_count": 0,
      "outputs": [
        {
          "output_type": "stream",
          "text": [
            "Requirement already satisfied: beautifulsoup4 in /usr/local/lib/python3.6/dist-packages (4.6.3)\n",
            "Requirement already up-to-date: spacy in /usr/local/lib/python3.6/dist-packages (2.2.4)\n",
            "Requirement already satisfied, skipping upgrade: plac<1.2.0,>=0.9.6 in /usr/local/lib/python3.6/dist-packages (from spacy) (1.1.3)\n",
            "Requirement already satisfied, skipping upgrade: wasabi<1.1.0,>=0.4.0 in /usr/local/lib/python3.6/dist-packages (from spacy) (0.6.0)\n",
            "Requirement already satisfied, skipping upgrade: srsly<1.1.0,>=1.0.2 in /usr/local/lib/python3.6/dist-packages (from spacy) (1.0.2)\n",
            "Requirement already satisfied, skipping upgrade: thinc==7.4.0 in /usr/local/lib/python3.6/dist-packages (from spacy) (7.4.0)\n",
            "Requirement already satisfied, skipping upgrade: setuptools in /usr/local/lib/python3.6/dist-packages (from spacy) (46.1.3)\n",
            "Requirement already satisfied, skipping upgrade: catalogue<1.1.0,>=0.0.7 in /usr/local/lib/python3.6/dist-packages (from spacy) (1.0.0)\n",
            "Requirement already satisfied, skipping upgrade: preshed<3.1.0,>=3.0.2 in /usr/local/lib/python3.6/dist-packages (from spacy) (3.0.2)\n",
            "Requirement already satisfied, skipping upgrade: murmurhash<1.1.0,>=0.28.0 in /usr/local/lib/python3.6/dist-packages (from spacy) (1.0.2)\n",
            "Requirement already satisfied, skipping upgrade: tqdm<5.0.0,>=4.38.0 in /usr/local/lib/python3.6/dist-packages (from spacy) (4.38.0)\n",
            "Requirement already satisfied, skipping upgrade: numpy>=1.15.0 in /usr/local/lib/python3.6/dist-packages (from spacy) (1.18.2)\n",
            "Requirement already satisfied, skipping upgrade: requests<3.0.0,>=2.13.0 in /usr/local/lib/python3.6/dist-packages (from spacy) (2.21.0)\n",
            "Requirement already satisfied, skipping upgrade: blis<0.5.0,>=0.4.0 in /usr/local/lib/python3.6/dist-packages (from spacy) (0.4.1)\n",
            "Requirement already satisfied, skipping upgrade: cymem<2.1.0,>=2.0.2 in /usr/local/lib/python3.6/dist-packages (from spacy) (2.0.3)\n",
            "Requirement already satisfied, skipping upgrade: importlib-metadata>=0.20; python_version < \"3.8\" in /usr/local/lib/python3.6/dist-packages (from catalogue<1.1.0,>=0.0.7->spacy) (1.6.0)\n",
            "Requirement already satisfied, skipping upgrade: chardet<3.1.0,>=3.0.2 in /usr/local/lib/python3.6/dist-packages (from requests<3.0.0,>=2.13.0->spacy) (3.0.4)\n",
            "Requirement already satisfied, skipping upgrade: idna<2.9,>=2.5 in /usr/local/lib/python3.6/dist-packages (from requests<3.0.0,>=2.13.0->spacy) (2.8)\n",
            "Requirement already satisfied, skipping upgrade: certifi>=2017.4.17 in /usr/local/lib/python3.6/dist-packages (from requests<3.0.0,>=2.13.0->spacy) (2020.4.5.1)\n",
            "Requirement already satisfied, skipping upgrade: urllib3<1.25,>=1.21.1 in /usr/local/lib/python3.6/dist-packages (from requests<3.0.0,>=2.13.0->spacy) (1.24.3)\n",
            "Requirement already satisfied, skipping upgrade: zipp>=0.5 in /usr/local/lib/python3.6/dist-packages (from importlib-metadata>=0.20; python_version < \"3.8\"->catalogue<1.1.0,>=0.0.7->spacy) (3.1.0)\n",
            "Requirement already satisfied: en_core_web_sm==2.2.5 from https://github.com/explosion/spacy-models/releases/download/en_core_web_sm-2.2.5/en_core_web_sm-2.2.5.tar.gz#egg=en_core_web_sm==2.2.5 in /usr/local/lib/python3.6/dist-packages (2.2.5)\n",
            "Requirement already satisfied: spacy>=2.2.2 in /usr/local/lib/python3.6/dist-packages (from en_core_web_sm==2.2.5) (2.2.4)\n",
            "Requirement already satisfied: wasabi<1.1.0,>=0.4.0 in /usr/local/lib/python3.6/dist-packages (from spacy>=2.2.2->en_core_web_sm==2.2.5) (0.6.0)\n",
            "Requirement already satisfied: cymem<2.1.0,>=2.0.2 in /usr/local/lib/python3.6/dist-packages (from spacy>=2.2.2->en_core_web_sm==2.2.5) (2.0.3)\n",
            "Requirement already satisfied: plac<1.2.0,>=0.9.6 in /usr/local/lib/python3.6/dist-packages (from spacy>=2.2.2->en_core_web_sm==2.2.5) (1.1.3)\n",
            "Requirement already satisfied: thinc==7.4.0 in /usr/local/lib/python3.6/dist-packages (from spacy>=2.2.2->en_core_web_sm==2.2.5) (7.4.0)\n",
            "Requirement already satisfied: blis<0.5.0,>=0.4.0 in /usr/local/lib/python3.6/dist-packages (from spacy>=2.2.2->en_core_web_sm==2.2.5) (0.4.1)\n",
            "Requirement already satisfied: setuptools in /usr/local/lib/python3.6/dist-packages (from spacy>=2.2.2->en_core_web_sm==2.2.5) (46.1.3)\n",
            "Requirement already satisfied: srsly<1.1.0,>=1.0.2 in /usr/local/lib/python3.6/dist-packages (from spacy>=2.2.2->en_core_web_sm==2.2.5) (1.0.2)\n",
            "Requirement already satisfied: tqdm<5.0.0,>=4.38.0 in /usr/local/lib/python3.6/dist-packages (from spacy>=2.2.2->en_core_web_sm==2.2.5) (4.38.0)\n",
            "Requirement already satisfied: requests<3.0.0,>=2.13.0 in /usr/local/lib/python3.6/dist-packages (from spacy>=2.2.2->en_core_web_sm==2.2.5) (2.21.0)\n",
            "Requirement already satisfied: murmurhash<1.1.0,>=0.28.0 in /usr/local/lib/python3.6/dist-packages (from spacy>=2.2.2->en_core_web_sm==2.2.5) (1.0.2)\n",
            "Requirement already satisfied: catalogue<1.1.0,>=0.0.7 in /usr/local/lib/python3.6/dist-packages (from spacy>=2.2.2->en_core_web_sm==2.2.5) (1.0.0)\n",
            "Requirement already satisfied: numpy>=1.15.0 in /usr/local/lib/python3.6/dist-packages (from spacy>=2.2.2->en_core_web_sm==2.2.5) (1.18.2)\n",
            "Requirement already satisfied: preshed<3.1.0,>=3.0.2 in /usr/local/lib/python3.6/dist-packages (from spacy>=2.2.2->en_core_web_sm==2.2.5) (3.0.2)\n",
            "Requirement already satisfied: chardet<3.1.0,>=3.0.2 in /usr/local/lib/python3.6/dist-packages (from requests<3.0.0,>=2.13.0->spacy>=2.2.2->en_core_web_sm==2.2.5) (3.0.4)\n",
            "Requirement already satisfied: certifi>=2017.4.17 in /usr/local/lib/python3.6/dist-packages (from requests<3.0.0,>=2.13.0->spacy>=2.2.2->en_core_web_sm==2.2.5) (2020.4.5.1)\n",
            "Requirement already satisfied: idna<2.9,>=2.5 in /usr/local/lib/python3.6/dist-packages (from requests<3.0.0,>=2.13.0->spacy>=2.2.2->en_core_web_sm==2.2.5) (2.8)\n",
            "Requirement already satisfied: urllib3<1.25,>=1.21.1 in /usr/local/lib/python3.6/dist-packages (from requests<3.0.0,>=2.13.0->spacy>=2.2.2->en_core_web_sm==2.2.5) (1.24.3)\n",
            "Requirement already satisfied: importlib-metadata>=0.20; python_version < \"3.8\" in /usr/local/lib/python3.6/dist-packages (from catalogue<1.1.0,>=0.0.7->spacy>=2.2.2->en_core_web_sm==2.2.5) (1.6.0)\n",
            "Requirement already satisfied: zipp>=0.5 in /usr/local/lib/python3.6/dist-packages (from importlib-metadata>=0.20; python_version < \"3.8\"->catalogue<1.1.0,>=0.0.7->spacy>=2.2.2->en_core_web_sm==2.2.5) (3.1.0)\n",
            "\u001b[38;5;2m✔ Download and installation successful\u001b[0m\n",
            "You can now load the model via spacy.load('en_core_web_sm')\n"
          ],
          "name": "stdout"
        }
      ]
    },
    {
      "cell_type": "code",
      "metadata": {
        "id": "F9pqiFUXLgt_",
        "colab_type": "code",
        "colab": {}
      },
      "source": [
        "import re\n",
        "import contractions\n",
        "import string\n",
        "from bs4 import BeautifulSoup\n",
        "import unicodedata\n",
        "\n",
        "def preprocessor(text):\n",
        "    \"\"\" Return a cleaned version of text\n",
        "    \"\"\"\n",
        "    # Remove html tags\n",
        "    text = strip_html_tags(text)\n",
        "    # Remove accents \n",
        "    text = remove_accented_chars(text)\n",
        "    # remove extra newlines\n",
        "    text = re.sub(r'[\\r|\\n|\\r\\n]+', ' ',text)\n",
        "\n",
        "    # Expanding contractions words\n",
        "    text = contractions.fix(text)\n",
        "    \n",
        "    # Save emoticons for later appending\n",
        "    emoticons = re.findall('(?::|;|=)(?:-)?(?:\\)|\\(|D|P)', text)\n",
        "\n",
        "    # text.replace('...',' ')\n",
        "    # text.replace('-',' ')\n",
        "\n",
        "    # Remove accents \n",
        "    text = remove_accented_chars(text)\n",
        "\n",
        "    # # insert spaces between special characters to isolate them    \n",
        "    # special_char_pattern = re.compile(r'([{.(-)!}])')\n",
        "    # text = remove_special_characters(text)  \n",
        "\n",
        "    # # remove extra whitespace\n",
        "    # text = re.sub(' +', ' ', text)\n",
        "\n",
        "    # Remove any non-word character and append the emoticons,\n",
        "    # removing the nose character for standarization. Convert to lower case\n",
        "    text = (re.sub('[\\W]+', ' ', text.lower()) + ' ' + ' '.join(emoticons).replace('-', ''))\n",
        "\n",
        "    return text\n",
        "\n",
        "def remove_special_characters(text, remove_digits=False):\n",
        "    pattern = r'[^a-zA-z0-9\\s]' if not remove_digits else r'[^a-zA-z\\s]'\n",
        "    text = re.sub(pattern, '', text)\n",
        "    return text\n",
        "def remove_accented_chars(text):\n",
        "    text = unicodedata.normalize('NFKD', text).encode('ascii', 'ignore').decode('utf-8', 'ignore')\n",
        "    return text\n",
        "\n",
        "def strip_html_tags(text):\n",
        "    soup = BeautifulSoup(text, \"lxml\")\n",
        "    stripped_text = soup.get_text()\n",
        "    return stripped_text\n",
        "\n",
        "# # Removing Special Characters\n",
        "def remove_special_characters(text):\n",
        "    text = re.sub('[^a-zA-Z0-9\\s]', '', text)\n",
        "    return text\n"
      ],
      "execution_count": 0,
      "outputs": []
    },
    {
      "cell_type": "code",
      "metadata": {
        "id": "TB-cijhPtdcc",
        "colab_type": "code",
        "outputId": "43e3ea39-798e-4fdd-b698-96f10be1653b",
        "colab": {
          "base_uri": "https://localhost:8080/",
          "height": 498
        }
      },
      "source": [
        "%%time\n",
        "test = data['review'].sample(10)\n",
        "print_full(test)\n",
        "print_full(test.apply(preprocessor))"
      ],
      "execution_count": 47,
      "outputs": [
        {
          "output_type": "stream",
          "text": [
            "15436    Dreamgirls, despite its fistful of Tony wins in an incredibly weak year on Broadway, has never been what one would call a jewel in the crown of stage musicals. However, that is not to say that in the right cinematic hands it could not be fleshed out and polished into something worthwhile on-screen. Unfortunately, what transfers to the screen is basically a slavishly faithful version of the stage hit with all of its inherent weaknesses intact. First, the score has never been one of the strong points of this production and the film does not change that factor. There are lots of songs (perhaps too many?), but few of them are especially memorable. The closest any come to catchy tunes are the title song and One Night Only - the much acclaimed And I Am Telling You That I Am Not Going is less a great song than it is a dramatic set piece for the character of Effie (Jennifer Hudson). The film is slick and technically well-produced, but the story and characters are surprisingly thin and lacking in any resonance. There is some interest in the opening moments, watching Jamie Foxx's Svengali-like manager manipulate his acts to the top, but that takes a back seat in the latter portion of the film, when the story conveniently tries to cast him as a villain, despite his having been right from a business stand-point for a good majority of the film. Beyonce Knowles is lovely and sings her songs perfectly well, but is stuck with a character who is basically all surface glitz. Anika Noni Rose as the third member of the Dreamgirls trio literally has nothing to do for the entire film. Eddie Murphy acquits himself well as a singer obviously based on James Brown, but the role is not especially meaty and ultimately has little impact. Foxx would seem ideal casting, but he seems oddly withdrawn and bored. The film's biggest selling point is surely former American Idol contestant/Oscar winner Jennifer Hudson in the central role of Effie White, the temperamental singer who gets booted from the group and makes a triumphant closing act return. For me, Effie has always been a big problem in both the show and the movie. The film obviously wants you to feel sorry for her and rather ham-handedly takes her side, but I have never been sure that this character deserves that kind of devotion. From the start, Effie conducts herself for the most part like an obnoxious, egotistical, self-centered diva, who is more interested in what everyone else can do for her rather than having much vested interest in the group of which she is a part. When she is booted from the group for her unprofessionalism and bad attitude, the charges are more than well-founded, but the stage show/film seem to think Effie should be cut unlimited slack simply because she has a great voice. Even though the film tries to soften some of Effie's harder edges to make her more likable, the charges still stand. Her story becomes more manipulative by suggesting she should have our further sympathy because she is an unwed mother struggling to raise her daughter - using the implication that (much like the talent card) motherhood immediately makes any behavior excusable. Indeed the only big effort the film makes to show Effie's mothering is to tell us about it and then include a scene where she barks at her daughter in the unemployment office, insists that the girl has \\no father\\\" and then refuse to look for gainful employment to support them since singing is all she knows. In the hands of a skillful actress, the gaps could perhaps have been remedied with technique and charisma. Unfortunately, Hudson is not that actress. She sings well, but the dialog-driven moments do not come naturally to her nor do high emotional moments. Effie's signature moment (the aforementioned And I Am Telling You... number) is well-sung by Hudson, but emotionally flat in the acting department. Effie is supposed to expressing her rage and desperation at her predicament, but Hudson comes off as a cabaret performer belting out a hot number. All in all, not quite the emotional highlight one expects. The latter portion of the film is basically a predictable melange of events that maneuver Foxx into Hudson's earlier position and allow her to strut back in and lord it over everyone. Foxx's criminal offenses in the film are undoubtedly par for the course of many struggling record producers, but the film's seeming implication that he has it coming because he helped usher in the disco era is rather ridiculous, not to mention pretentious and condescending, particularly coming from a film with all of the depth of a puddle. The end result is a faithful rendition of the stage hit, drained of emotion, energy or anything that can be described as dynamic.\"\n",
            "631      I was totally impressed by Shelley Adrienne's \\Waitress\\\" (2007). This movie only confirms what was clear from that movie. Adrienne was a marvelously talented writer-director, an original and unique artist. She managed to show the miseries of everyday life with absurd humor and a real warm optimistic and humanistic tendency. Ally Sheedy steals this movie with a terrific performance as a woman who has fallen over the edge. Male lead Reg Rodgers, looking like Judd Nelson, is fine. There is also a great cameo by Ben Vereen. The song at the end of the movie \\\"The Bastard Song\\\" written by Adrienne can stand as her optimistic eulogy: <br /><br />\\\"It's a world of suffering,<br /><br />In a sea of pain,<br /><br />No matter how much sun you bring,<br /><br />You're pummeled by the rain...<br /><br />Don't let the heartless get you down,<br /><br />Don't greet the heartless at your door,<br /><br />Don't live among the heartless\\\"\"                                                                                                                                                                                                                                                                                                                                                                                                                                                                                                                                                                                                                                                                                                                                                                                                                                                                                                                                                                                                                                                                                                                                                                                                                                                                                                                                                                                                                                                                                                                                                                                                                                                                                                                                                                                                                                                                                                                                                                                                                                                                                                                                                                                                                                                                                                                                                                                                                                                                                                                                                                                                                                                                                                                                                                                                                                                                                                                                                                                                                                                                                                                                                                                                                                                                                                                                                                                                                                                                                                                                                                                                                                                                                                                                                                                                                                                                                                                                           \n",
            "391      My choice for greatest movie ever used to be Laughton's \\Night of the Hunter\\\" which remains superb in my canon. But, it may have been supplanted by \\\"Shower\\\" which is the most artistically Daoist movie I have seen. The way that caring for others is represented by the flowing of water, and the way that water can be made inspiration, and comfort, and cleansing, and etc. is the essence of the Dao. It is possible to argue that the the NOFTH and Shower themes are similar, and that Lillian Gish in the former represents the purest form of Christianity as the operators of the bathhouse represent the purest form of Daoism. I would not in any way argue against such an interpretation. Both movies are visual joys in their integration of idea and image. Yet, Shower presents such an unstylized view of the sacredness of everyday life that I give it the nod. I revere both.\"                                                                                                                                                                                                                                                                                                                                                                                                                                                                                                                                                                                                                                                                                                                                                                                                                                                                                                                                                                                                                                                                                                                                                                                                                                                                                                                                                                                                                                                                                                                                                                                                                                                                                                                                                                                                                                                                                                                                                                                                                                                                                                                                                                                                                                                                                                                                                                                                                                                                                                                                                                                                                                                                                                                                                                                                                                                                                                                                                                                                                                                                                                                                                                                                                                                                                                                                                                                                                                                                                                                                                                                                                                                                                                                                                                                                                                                                                                                                                                                                             \n",
            "3781     This film is predictable; it is more predictable then a Vinnie Testaverdi pass, when he huts the ball for the Jets. One saw the ending coming up halfway through the film. The politics reminds me when I was back east. Many people know when the fix is in. I gave this four because of the acting, but the story is lame.                                                                                                                                                                                                                                                                                                                                                                                                                                                                                                                                                                                                                                                                                                                                                                                                                                                                                                                                                                                                                                                                                                                                                                                                                                                                                                                                                                                                                                                                                                                                                                                                                                                                                                                                                                                                                                                                                                                                                                                                                                                                                                                                                                                                                                                                                                                                                                                                                                                                                                                                                                                                                                                                                                                                                                                                                                                                                                                                                                                                                                                                                                                                                                                                                                                                                                                                                                                                                                                                                                                                                                                                                                                                                                                                                                                                                                                                                                                                                                                                                                                                                                                                                                                                                                                                                                                                                                                                                                                                                                                                                                                         \n",
            "17699    Surely one of the best British films ever made, if not one of the best films ever made anywhere. Script, cinematography, direction and acting in a class on their own. This film works on so many levels. So why is it completely unavailable on tape, DVD. Never shown on TV? Why is it hidden away when it is regularly shown at the National Film Theatre in London to packed houses?                                                                                                                                                                                                                                                                                                                                                                                                                                                                                                                                                                                                                                                                                                                                                                                                                                                                                                                                                                                                                                                                                                                                                                                                                                                                                                                                                                                                                                                                                                                                                                                                                                                                                                                                                                                                                                                                                                                                                                                                                                                                                                                                                                                                                                                                                                                                                                                                                                                                                                                                                                                                                                                                                                                                                                                                                                                                                                                                                                                                                                                                                                                                                                                                                                                                                                                                                                                                                                                                                                                                                                                                                                                                                                                                                                                                                                                                                                                                                                                                                                                                                                                                                                                                                                                                                                                                                                                                                                                                                                                             \n",
            "12092    An interesting idea for a film, both showing the last dragon on earth and showing the struggle he and someone evil have together. When he was younger, Einon got stabbed in the heart, so Bowen (Dennis Quaid) took him to the dark lord who gave him half his heart. Now grown up Einon (David Thewlis) is now the selfish and evil king. Meanwhile, Bowen is using a new friend Draco the Dragon (voiced by Sir Sean Connery) to get rewards for \\killing\\\" dragons. But because Einon has half of Draco's hear, they both feel the pain in one of them is hurt, or killed. Also starring Pete Postlethwaite as Gilbert of Glockenspur, Jason Isaacs as Lord Felton, Julie Christie as Queen Aislinn and John Gielgud as King Arthur. It was nominated for the Oscar for Best Visual Effects. Worth watching!\"                                                                                                                                                                                                                                                                                                                                                                                                                                                                                                                                                                                                                                                                                                                                                                                                                                                                                                                                                                                                                                                                                                                                                                                                                                                                                                                                                                                                                                                                                                                                                                                                                                                                                                                                                                                                                                                                                                                                                                                                                                                                                                                                                                                                                                                                                                                                                                                                                                                                                                                                                                                                                                                                                                                                                                                                                                                                                                                                                                                                                                                                                                                                                                                                                                                                                                                                                                                                                                                                                                                                                                                                                                                                                                                                                                                                                                                                                                                                                                                                                                                                                                     \n",
            "10608    Taking old collection of stories poses a challenge for the production team, how can this classic character be brought up to date and make it interesting enough to capture a new audience while stirring memories from her former audience. In my opinion, their mission was accomplished. A must see for young children, pre-teens, teens, and their parents. OK there are a couple scary moments that are resolved in short order, but parents with young children should sit tight, the movie moves on to better things. I am going to go with those astute user reviewers who point out that Emma Roberts provides us with a positive role model for young women, not syrupy about it either. Nancy balances her femininity with career minded sleuthing skills. A lot to like in here, laughs, doesn't take itself too seriously, a real mystery to solve (one you can figure out yourself as an added bonus, and likable characters. Nancy Drew even makes a good date movie in my opinion.                                                                                                                                                                                                                                                                                                                                                                                                                                                                                                                                                                                                                                                                                                                                                                                                                                                                                                                                                                                                                                                                                                                                                                                                                                                                                                                                                                                                                                                                                                                                                                                                                                                                                                                                                                                                                                                                                                                                                                                                                                                                                                                                                                                                                                                                                                                                                                                                                                                                                                                                                                                                                                                                                                                                                                                                                                                                                                                                                                                                                                                                                                                                                                                                                                                                                                                                                                                                                                                                                                                                                                                                                                                                                                                                                                                                                                                                                                                    \n",
            "2788     This is a movie that is bad in every imaginable way. Sure we like to know what happened 12 years from the last movie, and it works on some level. But the new characters are just not interesting. Baby Melody is hideously horrible! Alas, while the logic that humans can't stay underwater forever is maintained, other basic physical logic are ignored. It's chilly if you don't have cold weather garments if you're in the Arctic. I don't know why most comments here Return of Jafar rates worse, I thought this one is more horrible.                                                                                                                                                                                                                                                                                                                                                                                                                                                                                                                                                                                                                                                                                                                                                                                                                                                                                                                                                                                                                                                                                                                                                                                                                                                                                                                                                                                                                                                                                                                                                                                                                                                                                                                                                                                                                                                                                                                                                                                                                                                                                                                                                                                                                                                                                                                                                                                                                                                                                                                                                                                                                                                                                                                                                                                                                                                                                                                                                                                                                                                                                                                                                                                                                                                                                                                                                                                                                                                                                                                                                                                                                                                                                                                                                                                                                                                                                                                                                                                                                                                                                                                                                                                                                                                                                                                                                                      \n",
            "19813    Since Siskel's death and Ebert's absence the show has been left in the incapable hands of Richard Roeper. Roeper is not a film critic he just criticizes anything he doesn't like personally i.e. films with country music get panned because \\I don't like country music!\\\" and children's movies get a standard \\\"Don't see it now, wait until it comes out on DVD and rent it for your kids!\\\" Roeper may well be an idiot savant, but in some other field. The weekly guests 'sitting-in' for Ebert fare better, but who wants to pick a daisy in the midst of a cow pat? All that said, it IS the only show in town and that alone makes it worth watching. As for Roger Ebert, if Stephen Hawking can talk, so can you! It's your mind and thoughts we long for. Do whatever is necessary to get that usurper off his self-declared throne.\"                                                                                                                                                                                                                                                                                                                                                                                                                                                                                                                                                                                                                                                                                                                                                                                                                                                                                                                                                                                                                                                                                                                                                                                                                                                                                                                                                                                                                                                                                                                                                                                                                                                                                                                                                                                                                                                                                                                                                                                                                                                                                                                                                                                                                                                                                                                                                                                                                                                                                                                                                                                                                                                                                                                                                                                                                                                                                                                                                                                                                                                                                                                                                                                                                                                                                                                                                                                                                                                                                                                                                                                                                                                                                                                                                                                                                                                                                                                                                                                                                                                                   \n",
            "19397    This film was on last week and although at that time of the day (around 6pm) the quality of the movies is almost never good (at least here on Mexican TV), I couldn't switch the TV off. The story about Madelene Moore really touches you. She doesn't come across as a very sympathetic character at first, but seeing the whole film, you just want her so succeed. This film really leaves you thinking. And i think that basically due to the great acting of Brooke Johnson. I had never heard of her before nor knowingly seen her in another film, but this was great great acting. Compliments to Brooke. I hope to see her in another film soon.                                                                                                                                                                                                                                                                                                                                                                                                                                                                                                                                                                                                                                                                                                                                                                                                                                                                                                                                                                                                                                                                                                                                                                                                                                                                                                                                                                                                                                                                                                                                                                                                                                                                                                                                                                                                                                                                                                                                                                                                                                                                                                                                                                                                                                                                                                                                                                                                                                                                                                                                                                                                                                                                                                                                                                                                                                                                                                                                                                                                                                                                                                                                                                                                                                                                                                                                                                                                                                                                                                                                                                                                                                                                                                                                                                                                                                                                                                                                                                                                                                                                                                                                                                                                                                                           \n",
            "Name: review, dtype: object\n",
            "15436    dreamgirls despite its fistful of tony wins in an incredibly weak year on broadway has never been what one would call a jewel in the crown of stage musicals however that is not to say that in the right cinematic hands it could not be fleshed out and polished into something worthwhile on screen unfortunately what transfers to the screen is basically a slavishly faithful version of the stage hit with all of its inherent weaknesses intact first the score has never been one of the strong points of this production and the film does not change that factor there are lots of songs perhaps too many but few of them are especially memorable the closest any come to catchy tunes are the title song and one night only the much acclaimed and i am telling you that i am not going is less a great song than it is a dramatic set piece for the character of effie jennifer hudson the film is slick and technically well produced but the story and characters are surprisingly thin and lacking in any resonance there is some interest in the opening moments watching jamie foxx s svengali like manager manipulate his acts to the top but that takes a back seat in the latter portion of the film when the story conveniently tries to cast him as a villain despite his having been right from a business stand point for a good majority of the film beyonce knowles is lovely and sings her songs perfectly well but is stuck with a character who is basically all surface glitz anika noni rose as the third member of the dreamgirls trio literally has nothing to do for the entire film eddie murphy acquits himself well as a singer obviously based on james brown but the role is not especially meaty and ultimately has little impact foxx would seem ideal casting but he seems oddly withdrawn and bored the film s biggest selling point is surely former american idol contestant oscar winner jennifer hudson in the central role of effie white the temperamental singer who gets booted from the group and makes a triumphant closing act return for me effie has always been a big problem in both the show and the movie the film obviously wants you to feel sorry for her and rather ham handedly takes her side but i have never been sure that this character deserves that kind of devotion from the start effie conducts herself for the most part like an obnoxious egotistical self centered diva who is more interested in what everyone else can do for her rather than having much vested interest in the group of which she is a part when she is booted from the group for her unprofessionalism and bad attitude the charges are more than well founded but the stage show film seem to think effie should be cut unlimited slack simply because she has a great voice even though the film tries to soften some of effie s harder edges to make her more likable the charges still stand her story becomes more manipulative by suggesting she should have our further sympathy because she is an unwed mother struggling to raise her daughter using the implication that much like the talent card motherhood immediately makes any behavior excusable indeed the only big effort the film makes to show effie s mothering is to tell us about it and then include a scene where she barks at her daughter in the unemployment office insists that the girl has no father and then refuse to look for gainful employment to support them since singing is all she knows in the hands of a skillful actress the gaps could perhaps have been remedied with technique and charisma unfortunately hudson is not that actress she sings well but the dialog driven moments do not come naturally to her nor do high emotional moments effie s signature moment the aforementioned and i am telling you number is well sung by hudson but emotionally flat in the acting department effie is supposed to expressing her rage and desperation at her predicament but hudson comes off as a cabaret performer belting out a hot number all in all not quite the emotional highlight one expects the latter portion of the film is basically a predictable melange of events that maneuver foxx into hudson s earlier position and allow her to strut back in and lord it over everyone foxx s criminal offenses in the film are undoubtedly par for the course of many struggling record producers but the film s seeming implication that he has it coming because he helped usher in the disco era is rather ridiculous not to mention pretentious and condescending particularly coming from a film with all of the depth of a puddle the end result is a faithful rendition of the stage hit drained of emotion energy or anything that can be described as dynamic  \n",
            "631      i was totally impressed by shelley adrienne s waitress 2007 this movie only confirms what was clear from that movie adrienne was a marvelously talented writer director an original and unique artist she managed to show the miseries of everyday life with absurd humor and a real warm optimistic and humanistic tendency ally sheedy steals this movie with a terrific performance as a woman who has fallen over the edge male lead reg rodgers looking like judd nelson is fine there is also a great cameo by ben vereen the song at the end of the movie the bastard song written by adrienne can stand as her optimistic eulogy it is a world of suffering in a sea of pain no matter how much sun you bring you are pummeled by the rain do not let the heartless get you down do not greet the heartless at your door do not live among the heartless                                                                                                                                                                                                                                                                                                                                                                                                                                                                                                                                                                                                                                                                                                                                                                                                                                                                                                                                                                                                                                                                                                                                                                                                                                                                                                                                                                                                                                                                                                                                                                                                                                                                                                                                                                                                                                                                                                                                                                                                                                                                                                                                                                                                                                                                                                                                                                                                                                                                                                                                                                                                                                                                                                                                                                                                                                                                                                                                                                                                                                                                                                                                                                                                                                                                                                                                                                                                                                                                                                                                                                                                                                                                                                                                                                                                                                                                                                                                                                  \n",
            "391      my choice for greatest movie ever used to be laughton s night of the hunter which remains superb in my canon but it may have been supplanted by shower which is the most artistically daoist movie i have seen the way that caring for others is represented by the flowing of water and the way that water can be made inspiration and comfort and cleansing and etc is the essence of the dao it is possible to argue that the the nofth and shower themes are similar and that lillian gish in the former represents the purest form of christianity as the operators of the bathhouse represent the purest form of daoism i would not in any way argue against such an interpretation both movies are visual joys in their integration of idea and image yet shower presents such an unstylized view of the sacredness of everyday life that i give it the nod i revere both                                                                                                                                                                                                                                                                                                                                                                                                                                                                                                                                                                                                                                                                                                                                                                                                                                                                                                                                                                                                                                                                                                                                                                                                                                                                                                                                                                                                                                                                                                                                                                                                                                                                                                                                                                                                                                                                                                                                                                                                                                                                                                                                                                                                                                                                                                                                                                                                                                                                                                                                                                                                                                                                                                                                                                                                                                                                                                                                                                                                                                                                                                                                                                                                                                                                                                                                                                                                                                                                                                                                                                                                                                                                                                                                                                                                                                                                                                                                                  \n",
            "3781     this film is predictable it is more predictable then a vinnie testaverdi pass when he huts the ball for the jets one saw the ending coming up halfway through the film the politics reminds me when i was back east many people know when the fix is in i gave this four because of the acting but the story is lame                                                                                                                                                                                                                                                                                                                                                                                                                                                                                                                                                                                                                                                                                                                                                                                                                                                                                                                                                                                                                                                                                                                                                                                                                                                                                                                                                                                                                                                                                                                                                                                                                                                                                                                                                                                                                                                                                                                                                                                                                                                                                                                                                                                                                                                                                                                                                                                                                                                                                                                                                                                                                                                                                                                                                                                                                                                                                                                                                                                                                                                                                                                                                                                                                                                                                                                                                                                                                                                                                                                                                                                                                                                                                                                                                                                                                                                                                                                                                                                                                                                                                                                                                                                                                                                                                                                                                                                                                                                                                                              \n",
            "17699    surely one of the best british films ever made if not one of the best films ever made anywhere script cinematography direction and acting in a class on their own this film works on so many levels so why is it completely unavailable on tape dvd never shown on tv why is it hidden away when it is regularly shown at the national film theatre in london to packed houses                                                                                                                                                                                                                                                                                                                                                                                                                                                                                                                                                                                                                                                                                                                                                                                                                                                                                                                                                                                                                                                                                                                                                                                                                                                                                                                                                                                                                                                                                                                                                                                                                                                                                                                                                                                                                                                                                                                                                                                                                                                                                                                                                                                                                                                                                                                                                                                                                                                                                                                                                                                                                                                                                                                                                                                                                                                                                                                                                                                                                                                                                                                                                                                                                                                                                                                                                                                                                                                                                                                                                                                                                                                                                                                                                                                                                                                                                                                                                                                                                                                                                                                                                                                                                                                                                                                                                                                                                                                    \n",
            "12092    an interesting idea for a film both showing the last dragon on earth and showing the struggle he and someone evil have together when he was younger einon got stabbed in the heart so bowen dennis quaid took him to the dark lord who gave him half his heart now grown up einon david thewlis is now the selfish and evil king meanwhile bowen is using a new friend draco the dragon voiced by sir sean connery to get rewards for killing dragons but because einon has half of draco s hear they both feel the pain in one of them is hurt or killed also starring pete postlethwaite as gilbert of glockenspur jason isaacs as lord felton julie christie as queen aislinn and john gielgud as king arthur it was nominated for the oscar for best visual effects worth watching                                                                                                                                                                                                                                                                                                                                                                                                                                                                                                                                                                                                                                                                                                                                                                                                                                                                                                                                                                                                                                                                                                                                                                                                                                                                                                                                                                                                                                                                                                                                                                                                                                                                                                                                                                                                                                                                                                                                                                                                                                                                                                                                                                                                                                                                                                                                                                                                                                                                                                                                                                                                                                                                                                                                                                                                                                                                                                                                                                                                                                                                                                                                                                                                                                                                                                                                                                                                                                                                                                                                                                                                                                                                                                                                                                                                                                                                                                                                                                                                                                            \n",
            "10608    taking old collection of stories poses a challenge for the production team how can this classic character be brought up to date and make it interesting enough to capture a new audience while stirring memories from her former audience in my opinion their mission was accomplished a must see for young children pre teens teens and their parents ok there are a couple scary moments that are resolved in short order but parents with young children should sit tight the movie moves on to better things i am going to go with those astute user reviewers who point out that emma roberts provides us with a positive role model for young women not syrupy about it either nancy balances her femininity with career minded sleuthing skills a lot to like in here laughs does not take itself too seriously a real mystery to solve one you can figure out yourself as an added bonus and likable characters nancy drew even makes a good date movie in my opinion                                                                                                                                                                                                                                                                                                                                                                                                                                                                                                                                                                                                                                                                                                                                                                                                                                                                                                                                                                                                                                                                                                                                                                                                                                                                                                                                                                                                                                                                                                                                                                                                                                                                                                                                                                                                                                                                                                                                                                                                                                                                                                                                                                                                                                                                                                                                                                                                                                                                                                                                                                                                                                                                                                                                                                                                                                                                                                                                                                                                                                                                                                                                                                                                                                                                                                                                                                                                                                                                                                                                                                                                                                                                                                                                                                                                                                                     \n",
            "2788     this is a movie that is bad in every imaginable way sure we like to know what happened 12 years from the last movie and it works on some level but the new characters are just not interesting baby melody is hideously horrible alas while the logic that humans can not stay underwater forever is maintained other basic physical logic are ignored it is chilly if you do not have cold weather garments if you are in the arctic i do not know why most comments here return of jafar rates worse i thought this one is more horrible                                                                                                                                                                                                                                                                                                                                                                                                                                                                                                                                                                                                                                                                                                                                                                                                                                                                                                                                                                                                                                                                                                                                                                                                                                                                                                                                                                                                                                                                                                                                                                                                                                                                                                                                                                                                                                                                                                                                                                                                                                                                                                                                                                                                                                                                                                                                                                                                                                                                                                                                                                                                                                                                                                                                                                                                                                                                                                                                                                                                                                                                                                                                                                                                                                                                                                                                                                                                                                                                                                                                                                                                                                                                                                                                                                                                                                                                                                                                                                                                                                                                                                                                                                                                                                                                                        \n",
            "19813    since siskel s death and ebert s absence the show has been left in the incapable hands of richard roeper roeper is not a film critic he just criticizes anything he does not like personally i e films with country music get panned because i do not like country music and children s movies get a standard do not see it now wait until it comes out on dvd and rent it for your kids roeper may well be an idiot savant but in some other field the weekly guests sitting in for ebert fare better but who wants to pick a daisy in the midst of a cow pat all that said it is the only show in town and that alone makes it worth watching as for roger ebert if stephen hawking can talk so can you it is your mind and thoughts we long for do whatever is necessary to get that usurper off his self declared throne                                                                                                                                                                                                                                                                                                                                                                                                                                                                                                                                                                                                                                                                                                                                                                                                                                                                                                                                                                                                                                                                                                                                                                                                                                                                                                                                                                                                                                                                                                                                                                                                                                                                                                                                                                                                                                                                                                                                                                                                                                                                                                                                                                                                                                                                                                                                                                                                                                                                                                                                                                                                                                                                                                                                                                                                                                                                                                                                                                                                                                                                                                                                                                                                                                                                                                                                                                                                                                                                                                                                                                                                                                                                                                                                                                                                                                                                                                                                                                                                      \n",
            "19397    this film was on last week and although at that time of the day around 6pm the quality of the movies is almost never good at least here on mexican tv i could not switch the tv off the story about madelene moore really touches you she does not come across as a very sympathetic character at first but seeing the whole film you just want her so succeed this film really leaves you thinking and i think that basically due to the great acting of brooke johnson i had never heard of her before nor knowingly seen her in another film but this was great great acting compliments to brooke i hope to see her in another film soon                                                                                                                                                                                                                                                                                                                                                                                                                                                                                                                                                                                                                                                                                                                                                                                                                                                                                                                                                                                                                                                                                                                                                                                                                                                                                                                                                                                                                                                                                                                                                                                                                                                                                                                                                                                                                                                                                                                                                                                                                                                                                                                                                                                                                                                                                                                                                                                                                                                                                                                                                                                                                                                                                                                                                                                                                                                                                                                                                                                                                                                                                                                                                                                                                                                                                                                                                                                                                                                                                                                                                                                                                                                                                                                                                                                                                                                                                                                                                                                                                                                                                                                                                                                      \n",
            "Name: review, dtype: object\n",
            "CPU times: user 120 ms, sys: 4 ms, total: 124 ms\n",
            "Wall time: 126 ms\n"
          ],
          "name": "stdout"
        },
        {
          "output_type": "stream",
          "text": [
            "/usr/local/lib/python3.6/dist-packages/ipykernel_launcher.py:6: FutureWarning: Passing a negative integer is deprecated in version 1.0 and will not be supported in future version. Instead, use None to not limit the column width.\n",
            "  \n"
          ],
          "name": "stderr"
        }
      ]
    },
    {
      "cell_type": "markdown",
      "metadata": {
        "id": "p6mimtiSLguB",
        "colab_type": "text"
      },
      "source": [
        "#### Prepare tokenizer"
      ]
    },
    {
      "cell_type": "code",
      "metadata": {
        "id": "ZsG38a0h8ywg",
        "colab_type": "code",
        "colab": {}
      },
      "source": [
        "import spacy\n",
        "from spacy.lang.en.stop_words import STOP_WORDS\n",
        "from spacy.lang.en import English\n",
        "import string\n",
        "from sklearn.base import TransformerMixin\n",
        "from nltk.tokenize.toktok import ToktokTokenizer\n",
        "\n",
        "\n",
        "punctuations = string.punctuation\n",
        "tokenizer = ToktokTokenizer()\n",
        "stop_words = spacy.lang.en.stop_words.STOP_WORDS\n",
        "parser = spacy.load(\"en_core_web_sm\")\n",
        "\n",
        "# Creating our tokenizer function\n",
        "def spacy_tokenizer(sentence):\n",
        "    sentence = remove_stopwords(sentence)\n",
        "    # Keep meaningfull words\n",
        "    # meaningfull_words = get_meaningfull_words(sentence)\n",
        "    # for word in meaningfull_words:\n",
        "    #   sentence = sentence.replace(word,'')\n",
        "    # Creating our token object, which is used to create documents with linguistic annotations.\n",
        "    tokens = parser(sentence)\n",
        "    # # Lemmatizing each token and converting each token into lowercase\n",
        "    tokens = [ word.lemma_.lower().strip() if word.lemma_ != \"-PRON-\" else word.lower_ for word in tokens ]\n",
        "    # tokens.extend(meaningfull_words)\n",
        "\n",
        "   # return preprocessed list of tokens\n",
        "    return tokens\n",
        "\n",
        "\n",
        "def spacy_filter_meaningfull_word_tokenizer(sentence):\n",
        "    sentence = remove_stopwords(sentence)\n",
        "    # Keep meaningfull words\n",
        "    meaningfull_words = get_meaningfull_words(sentence)\n",
        "    for word in meaningfull_words:\n",
        "      sentence = sentence.replace(word,'')\n",
        "    # Creating our token object, which is used to create documents with linguistic annotations.\n",
        "    tokens = parser(sentence)\n",
        "    # # Lemmatizing each token and converting each token into lowercase\n",
        "    tokens = [ word.lemma_.lower().strip() if word.lemma_ != \"-PRON-\" else word.lower_ for word in tokens ]\n",
        "    tokens.extend(meaningfull_words)\n",
        "\n",
        "   # return preprocessed list of tokens\n",
        "    return tokens\n",
        "\n",
        "def get_meaningfull_words(sentence):\n",
        "  parser = spacy.load(\"en_core_web_sm\")\n",
        "  tokens = parser(sentence)\n",
        "  return [ent.text for ent in tokens.ents]\n",
        "\n",
        "\n",
        "\n",
        "# # Removing Stopwords\n",
        "def remove_stopwords(text, is_lower_case=False):\n",
        "    tokens = tokenizer.tokenize(text)\n",
        "    tokens = [token.strip() for token in tokens]\n",
        "    if is_lower_case:\n",
        "        filtered_tokens = [token for token in tokens if token not in stop_words]\n",
        "    else:\n",
        "        filtered_tokens = [token for token in tokens if token.lower() not in stop_words]\n",
        "    filtered_text = ' '.join(filtered_tokens)    \n",
        "    return filtered_text\n",
        "\n",
        "\n",
        "\n",
        "# Custom transformer using spaCy\n",
        "class predictors(TransformerMixin):\n",
        "    def transform(self, X, **transform_params):\n",
        "        # Cleaning Text\n",
        "        return [clean_text(text) for text in X]\n",
        "\n",
        "    def fit(self, X, y=None, **fit_params):\n",
        "        return self\n",
        "\n",
        "    def get_params(self, deep=True):\n",
        "        return {}\n",
        "\n",
        "# Basic function to clean the text\n",
        "def clean_text(text):\n",
        "    # Removing spaces and converting text into lowercase\n",
        "    return text.strip().lower()\n"
      ],
      "execution_count": 0,
      "outputs": []
    },
    {
      "cell_type": "code",
      "metadata": {
        "id": "S0_TYgmnx1Y7",
        "colab_type": "code",
        "outputId": "5927c629-773f-4569-a39a-b2f432eace5d",
        "colab": {
          "base_uri": "https://localhost:8080/",
          "height": 498
        }
      },
      "source": [
        "%%time\n",
        "test = data['review'].sample(10)\n",
        "print_full(test)\n",
        "print_full(test.apply(preprocessor).apply(spacy_tokenizer))"
      ],
      "execution_count": 50,
      "outputs": [
        {
          "output_type": "stream",
          "text": [
            "/usr/local/lib/python3.6/dist-packages/ipykernel_launcher.py:6: FutureWarning: Passing a negative integer is deprecated in version 1.0 and will not be supported in future version. Instead, use None to not limit the column width.\n",
            "  \n"
          ],
          "name": "stderr"
        },
        {
          "output_type": "stream",
          "text": [
            "18035    Excellent, pre-code amoral tale with Barbara Stanwyck as the newly inspired (by writings of Nietzsche!) to drive out her sensitivities and exploit herself, use men to her advantage. Not really fair on the German philosopher but interesting that this was the year Hitler came to power. Stanwyck, even in this young version doesn't do a lot for me but she certainly performs well here, ever driving herself and the film forward. Not as much flesh on display here as one might have expected but plenty of risquÃ© situations and astonishing quips and innuendo. Great fun, if not a particularly attractive presentation of men and I suppose in all honesty not a very attractive view of the gold digging female. Still, that's life!                                                                                                                                                                                                                                                                                                                                                                                                                                                                                                                                                                                                                                                                                                                                                                                                                                                                                                                                                                                                                                                                                                                                                              \n",
            "15698    So much has been written about the film's plot, the wonderful acting performance, the script, the melancholy, bittersweet atmosphere, the superb direction - what can I add? Just watch for one of the most heart warming, beautifully acted, poignant scenes ever filmed. It is Christmas eve and Frank Morgan's character (the owner of the shop - Mr. Matuschek)is recovering from his broken marriage and a suicide attempt. As each of his employees leave he invites them to a Christmas dinner. Each and everyone of them politely turn him down. They all have plans for their own Christmas eve. At this stage there is a deep sadness to this moving scene. Frank Morgan gives the performance of his career and this scene easily brings me to tears. Thankfully we have a happy denouement to this very special scene. The new employee, the errand boy, is the last to exit the shop into a beautiful snowy street scene. Desperately Mr. Matuschek approaches this boy and asks him how he would love to spend the evening with him, he will treat him to all the wonderful Christmas food that this errand boy has probably never seen!The chap is overwhelmed, he too is obviously as lonely as Mr. Matuschek and together they can have a wonderful Christmas meal. Every time I see this scene it moves me. If you manage to get the delightful DVD look at the great trailer with Frank Morgan introducing himself as Mr. Matuschek and an appearance by the director of the film- the talented Ernst Lubitsch. This film is a joy from beginning to end.                                                                                                                                                                                                                                                                                                                                      \n",
            "3874     Well what I can say about this movie is that it's great to see so many Asian faces. What I didn't like about the film was that it was full of stereotypes of what typical racial characters would do in their role. The Asian girl without confidence who has to play someone else to get ahead, the white guy infatuated with Asian culture and chooses to leave his white world behind for the land of yellow and the \\keeping it real\\\" black cab driver. Plus all the coke, shanghai tang and dunkin donuts product placement was a bit too obvious. The story plot itself was fun but pretty much how I thought the story would unravel. Then again when watching romantic comedies you can't expect much but then again I would have been wanted to just be surprised at least once. The parents are the best part of the flick.\"                                                                                                                                                                                                                                                                                                                                                                                                                                                                                                                                                                                                                                                                                                                                                                                                                                                                                                                                                                                                                                                                           \n",
            "11292    Tim Robbins is oddly benign here, cast as a garage mechanic in 1950s New Jersey who falls in love with a perky blonde who turns out to be Albert Einstein's niece! Although he's on-screen much of the time, Robbins cancels out the inner-workings of his intense persona and fades into the background (it's easy to forget he's even in the picture!). Lumpy romantic comedy with a gimmick, that being Walter Matthau playing Einstein (who does what he can with a cartoonishly conceived character). Otherwise, it's sugary and sunny, directed rather drowsily by Fred Schepisi, who shows heart but no wit or brains. Meg Ryan is her usual affable self and the chemistry between she and Robbins is charming, like that of an affectionate sister and her big brother. ** from ****                                                                                                                                                                                                                                                                                                                                                                                                                                                                                                                                                                                                                                                                                                                                                                                                                                                                                                                                                                                                                                                                                                                     \n",
            "5656     I have seen many a horror flick in my time, all of them absurdly bad, but none reach the depths that this piece of trash lowers itself to. This movie made me angrier and angrier as I watched it as I tried to wrap my head around exactly what this movie was about. Now, after I've seen it, I understand - sort of - what was going on and why, but the movie itself is just too confusing to be enjoyable when you're watching it. Yes, there are the customary scenes of gratuitious violence, one-liners that show the mind-blowing insightfulness of its characters (\\The highway belongs to me...ME!\\\"), and enough nudity to sufficiently distract us from the \\\"plot\\\", but still you'll leave this movie feeling alone and taken advantage of, like a puppy who isn't wanted anymore and is left in a box by the side of the road. Blech.\"                                                                                                                                                                                                                                                                                                                                                                                                                                                                                                                                                                                                                                                                                                                                                                                                                                                                                                                                                                                                                                                            \n",
            "14031    <br /><br />I just bought this movie on DVD and watched it for the first time the other night. I've been a fan of Tolkien's work for about 4 years now, ever since I got out of high school. I didn't grow up on this movie...perhaps my mother kept me away from it. It's definitely not for children. Not that it's bad in a graphic sense, but that the themes would go right over most 10 year olds heads. Overall, the animation was excellent considering this was made in 1978/1979. I thought the story followed the book fairly well in a loose sense. But I am bothered that Bashki didn't just add another 40 minutes or so and tack on the Return of the King parts. That would've made it the ultimate movie. I was bothered by it's abrupt end, and then when I heard Return of the King sucked, I was bothered even more. Too bad it wasn't one great animation film. It might have garnered a higher vote from me. I give it a 7. I can only hope Peter Jackson will do the books justice with the new live action LOTR.                                                                                                                                                                                                                                                                                                                                                                                                                                                                                                                                                                                                                                                                                                                                                                                                                                                                          \n",
            "8741     I think the reason for all the opinionated diarrhea on this movie is that most people have it out for Sharon Stone being around 50 and getting naked while playing sexy. No one cared when the Golden Girls sat around eating cheesecake and discussing their first orgasm, but to see someone post menopausal getting digitally pleased while driving I guess is just too much for some to handle. Let's face it, she looks good, she's light years hotter than my mother who's the same age! It's not an Oscar or a cult classic like the first, but ever since the turn of the century that's all movie goers seem to expect: a cinematic experience that will touch your soul. As such, it never claims to be either. It's an erotic thriller that is both erotic and thrilling, and is a continuation of a brilliant character that we all love to hate. It's the character of Catherine Trammell that helped give way for this sequel. Fans of the first movie want to see more of that frosty ice queen.<br /><br />The cinematography and art direction were lush and extravagant and made me want to move to Britian for sure. The score is amazing as well.<br /><br />Sure there's some overacting from some characters but there's some brilliant work from David Morrissey who's virtually unknown.<br /><br />There's a setback in that the script is virtually the same as the first movie only plugging in a psychiatrist in place of the cop. As well as the criminal decision of the MPAA to force the movie to be cut down even more which takes away from the guilty-pleasure raunchiness that the story is known for.<br /><br />At the very least it's entertaining and fun to look at it, and that's the movie's only intentions. So if you've got beef with Mizz Stone, maybe you should actually SEE the movie and draw your own conclusions before you spew forth your projectile vomit?\n",
            "22463    In Iran, women are officially banned from men's sporting events. In June 2005, the Iran's national soccer team has an important game against Bahrain in the Azadi Stadium for the qualification of the World Cup. A group of Iranian girls and lovers of soccer dresses like boys and unsuccessfully attempts to enter in the stadium being arrested.<br /><br />Soccer (and Flamengo's team), beach and movies are my greatest passions; therefore I loved this little gem about a group of girls and their passion for soccer. The director Jafar Panahi, from \\The White Balloon\\\", \\\"The Mirror\\\" and \\\"The Circle\\\", shot this movie on the day that Iran defeated Bahrain and qualified to the World Cup in Germany. The dramatic and funny adventure of these Iranian girls is one of the most delightful movies I have ever seen. My vote is nine.<br /><br />Title (Brazil): Not Available\"                                                                                                                                                                                                                                                                                                                                                                                                                                                                                                                                                                                                                                                                                                                                                                                                                                                                                                                                                                                                              \n",
            "12195    I just saw the movie on tv. I really enjoyed it. I like a good mystery. and this one had me guessing up to the end. Sean Connery did a good job. I would recomend it to a friend.                                                                                                                                                                                                                                                                                                                                                                                                                                                                                                                                                                                                                                                                                                                                                                                                                                                                                                                                                                                                                                                                                                                                                                                                                                                                                                                                                                                                                                                                                                                                                                                                                                                                                                                                 \n",
            "1378     The prerequisite for making such a film is a complete ignorance of Nietzche's work and personality, psychoanalytical techniques and Vienna's history. Take a well-know genius you have not read, describe him as demented, include crazy physicians to cure him, a couple of somewhat good looking women, have his role played by an actor with an enormous mustache, have every character speak with the strongest accent, show ridiculous dreams, include another prestigious figure who has nothing to do with the first one (Freud), mention a few words used in the genius' works, overdo everything you can, particularly music, and you are done. Audience, please stay away.                                                                                                                                                                                                                                                                                                                                                                                                                                                                                                                                                                                                                                                                                                                                                                                                                                                                                                                                                                                                                                                                                                                                                                                                                              \n",
            "Name: review, dtype: object\n",
            "18035    [excellent, pre, code, amoral, tale, barbara, stanwyck, newly, inspire, writing, nietzsche, drive, sensitivity, exploit, use, man, advantage, fair, german, philosopher, interesting, year, hitler, come, power, stanwyck, young, version, lot, certainly, perform, drive, film, forward, flesh, display, expect, plenty, risqua, situation, astonish, quip, innuendo, great, fun, particularly, attractive, presentation, man, suppose, honesty, attractive, view, gold, dig, female, life]                                                                                                                                                                                                                                                                                                                                               \n",
            "15698    [write, film, s, plot, wonderful, acting, performance, script, melancholy, bittersweet, atmosphere, superb, direction, add, watch, heart, warming, beautifully, act, poignant, scene, film, christmas, eve, frank, morgan, s, character, owner, shop, mr, matuschek, recover, break, marriage, suicide, attempt, employee, leave, invite, christmas, dinner, politely, turn, plan, christmas, eve, stage, deep, sadness, move, scene, frank, morgan, give, performance, career, scene, easily, bring, tear, thankfully, happy, denouement, special, scene, new, employee, errand, boy, exit, shop, beautiful, snowy, street, scene, desperately, mr, matuschek, approach, boy, ask, love, spend, evening, treat, wonderful, christmas, food, errand, boy, probably, see, chap, overwhelm, obviously, lonely, mr, matuschek, wonderful, ...]\n",
            "3874     [movie, great, asian, face, like, film, stereotype, typical, racial, character, role, asian, girl, confidence, play, ahead, white, guy, infatuate, asian, culture, choose, leave, white, world, land, yellow, keep, real, black, cab, driver, plus, coke, shanghai, tang, dunkin, donut, product, placement, bit, obvious, story, plot, fun, pretty, thought, story, unravel, watch, romantic, comedy, expect, want, surprised, parent, good, flick]                                                                                                                                                                                                                                                                                                                                                                                       \n",
            "11292    [tim, robbin, oddly, benign, cast, garage, mechanic, 1950s, new, jersey, falls, love, perky, blonde, turn, albert, einstein, s, niece, screen, time, robbin, cancel, inner, working, intense, persona, fade, background, easy, forget, picture, lumpy, romantic, comedy, gimmick, walter, matthau, play, einstein, cartoonishly, conceive, character, sugary, sunny, direct, drowsily, fre, schepisi, show, heart, wit, brain, meg, ryan, usual, affable, self, chemistry, robbin, charming, like, affectionate, sister, big, brother]                                                                                                                                                                                                                                                                                                     \n",
            "5656     [see, horror, flick, time, absurdly, bad, reach, depth, piece, trash, lower, movie, angrier, angrier, watch, try, wrap, head, exactly, movie, see, understand, sort, go, movie, confuse, enjoyable, watch, yes, customary, scene, gratuitious, violence, liner, mind, blow, insightfulness, character, highway, belong, nudity, sufficiently, distract, plot, leave, movie, feel, take, advantage, like, puppy, want, anymore, leave, box, road, blech]                                                                                                                                                                                                                                                                                                                                                                                    \n",
            "14031    [buy, movie, dvd, watch, time, night, fan, tolkien, s, work, 4, year, get, high, school, grow, movie, mother, keep, away, definitely, child, bad, graphic, sense, theme, right, 10, year, old, head, overall, animation, excellent, consider, 1978, 1979, thought, story, follow, book, fairly, loose, sense, bother, bashki, add, 40, minute, tack, return, king, part, ultimate, movie, bother, abrupt, end, hear, return, king, suck, bother, bad, great, animation, film, garner, high, vote, 7, hope, peter, jackson, books, justice, new, live, action, lotr]                                                                                                                                                                                                                                                                        \n",
            "8741     [think, reason, opinionate, diarrhea, movie, people, sharon, stone, 50, get, naked, play, sexy, care, golden, girl, sit, eat, cheesecake, discuss, orgasm, post, menopausal, get, digitally, pleased, driving, guess, handle, let, face, look, good, light, year, hot, mother, age, oscar, cult, classic, like, turn, century, movie, goer, expect, cinematic, experience, touch, soul, claim, erotic, thriller, erotic, thrill, continuation, brilliant, character, love, hate, character, catherine, trammell, help, way, sequel, fan, movie, want, frosty, ice, queen, cinematography, art, direction, lush, extravagant, want, britian, sure, score, amazing, sure, overact, character, brilliant, work, david, morrissey, virtually, unknown, setback, script, virtually, movie, plug, psychiatrist, place, cop, ...]                 \n",
            "22463    [iran, woman, officially, ban, man, s, sporting, event, june, 2005, iran, s, national, soccer, team, important, game, bahrain, azadi, stadium, qualification, world, cup, group, iranian, girl, lover, soccer, dress, like, boy, unsuccessfully, attempt, enter, stadium, arrest, soccer, flamengo, s, team, beach, movie, great, passion, love, little, gem, group, girl, passion, soccer, director, jafar, panahi, white, balloon, mirror, circle, shot, movie, day, iran, defeat, bahrain, qualified, world, cup, germany, dramatic, funny, adventure, iranian, girl, delightful, movie, see, vote, title, brazil, available]                                                                                                                                                                                                           \n",
            "12195    [see, movie, tv, enjoy, like, good, mystery, guess, end, sean, connery, good, job, recomend, friend]                                                                                                                                                                                                                                                                                                                                                                                                                                                                                                                                                                                                                                                                                                                                       \n",
            "1378     [prerequisite, make, film, complete, ignorance, nietzche, s, work, personality, psychoanalytical, technique, vienna, s, history, know, genius, read, describe, demente, include, crazy, physician, cure, couple, somewhat, good, look, woman, role, play, actor, enormous, mustache, character, speak, strong, accent, ridiculous, dream, include, prestigious, figure, freud, mention, words, genius, work, overdo, particularly, music, audience, stay, away]                                                                                                                                                                                                                                                                                                                                                                            \n",
            "Name: review, dtype: object\n",
            "CPU times: user 285 ms, sys: 1 ms, total: 286 ms\n",
            "Wall time: 291 ms\n"
          ],
          "name": "stdout"
        }
      ]
    },
    {
      "cell_type": "markdown",
      "metadata": {
        "id": "xpOHUj0QLguG",
        "colab_type": "text"
      },
      "source": [
        "### Split train and test sample"
      ]
    },
    {
      "cell_type": "code",
      "metadata": {
        "colab_type": "code",
        "id": "WNtEA36onDhi",
        "colab": {}
      },
      "source": [
        "# split the dataset in train and test\n",
        "# Your code here\n",
        "from sklearn.model_selection import train_test_split\n",
        "X = data['review'][:1000]\n",
        "y = data['sentiment'][:1000]\n",
        "X_train,X_test,y_train, y_test = train_test_split(X,y,test_size=0.2)\n"
      ],
      "execution_count": 0,
      "outputs": []
    },
    {
      "cell_type": "code",
      "metadata": {
        "id": "8dQObRO_BBFb",
        "colab_type": "code",
        "colab": {
          "base_uri": "https://localhost:8080/",
          "height": 87
        },
        "outputId": "c202d01a-be58-4353-fcc5-c936f143da98"
      },
      "source": [
        "print(X.shape)\n",
        "print(y.shape)\n",
        "print(X_train.shape)\n",
        "print(y_train.shape)"
      ],
      "execution_count": 62,
      "outputs": [
        {
          "output_type": "stream",
          "text": [
            "(1000,)\n",
            "(1000,)\n",
            "(800,)\n",
            "(800,)\n"
          ],
          "name": "stdout"
        }
      ]
    },
    {
      "cell_type": "markdown",
      "metadata": {
        "id": "96CGvWnKLguJ",
        "colab_type": "text"
      },
      "source": [
        "### Classification\n",
        "\n"
      ]
    },
    {
      "cell_type": "code",
      "metadata": {
        "id": "mrKUekdZKVWx",
        "colab_type": "code",
        "colab": {}
      },
      "source": [
        "from sklearn.model_selection import GridSearchCV\n",
        "from sklearn.linear_model import LogisticRegression\n",
        "from sklearn.model_selection import GridSearchCV \n",
        "from sklearn.pipeline import Pipeline\n",
        "from sklearn import metrics\n",
        "from sklearn.feature_extraction.text import TfidfVectorizer\n",
        "from sklearn.externals.joblib import Memory\n",
        "tfidf_vector = TfidfVectorizer(tokenizer = spacy_tokenizer,preprocessor=preprocessor,\n",
        "                               ngram_range=(1,1), max_df = 0.5, min_df = 1,sublinear_tf=True)\n",
        "\n",
        "log_reg = LogisticRegression(n_jobs=-1,random_state=0,C=3.5938136638046276)\n",
        "tfidf_pipe =  Pipeline([(\"cleaner\", predictors()),\n",
        "                 ('vect', tfidf_vector),\n",
        "                 ('clf', log_reg)],memory = Memory(location='/content/cache'))\n"
      ],
      "execution_count": 0,
      "outputs": []
    },
    {
      "cell_type": "code",
      "metadata": {
        "id": "DFGMpcD4yVbF",
        "colab_type": "code",
        "outputId": "133a512f-34c7-498b-b968-1c357a3e77bd",
        "colab": {
          "base_uri": "https://localhost:8080/",
          "height": 1000
        }
      },
      "source": [
        "%%time\n",
        "# Train model\n",
        "\n",
        "# model generation\n",
        "tfidf_pipe.fit(X_train,y_train)\n",
        "# Predict\n",
        "\n",
        "tfidf_pipe_predictions = tfidf_pipe.predict(X_test)\n",
        "# Evaluate\n",
        "print(\"Logistic Regression Accuracy:\",metrics.accuracy_score(y_test, tfidf_pipe_predictions))\n",
        "print(\"Logistic Regression Precision:\",metrics.precision_score(y_test, tfidf_pipe_predictions))\n",
        "print(\"Logistic Regression Recall:\",metrics.recall_score(y_test, tfidf_pipe_predictions))"
      ],
      "execution_count": 64,
      "outputs": [
        {
          "output_type": "stream",
          "text": [
            "________________________________________________________________________________\n",
            "[Memory] Calling sklearn.pipeline._fit_transform_one...\n",
            "_fit_transform_one(<__main__.predictors object at 0x7f4560358400>, 72     Channel surfing and caught this on LOGO. It wa...\n",
            "895    A new way to enjoy Goldsworthy's work, Rivers ...\n",
            "475    Trite, clichÃ©d dialog and plotting (the same ...\n",
            "145    A lot of promise and nothing more. An all-star...\n",
            "94     I was talked into watching this movie by a fri...\n",
            "                             ...                        \n",
            "336    The penultimate episode of Star Trek's third s...\n",
            "82     As a big fan of David Mamet's films and plays,...\n",
            "750    I was shocked by the ridiculously unbelievable...\n",
            "559    I just came back from \\El Otro\\\" playing here ...\n",
            "861    Not even Goebbels could have pulled off a prop...\n",
            "Name: review, Length: 800, dtype: object, \n",
            "72     0\n",
            "895    1\n",
            "475    0\n",
            "145    0\n",
            "94     0\n",
            "      ..\n",
            "336    1\n",
            "82     0\n",
            "750    0\n",
            "559    0\n",
            "861    0\n",
            "Name: sentiment, Length: 800, dtype: int64, \n",
            "None, message_clsname='Pipeline', message=None)\n",
            "________________________________________________fit_transform_one - 0.0s, 0.0min\n",
            "________________________________________________________________________________\n",
            "[Memory] Calling sklearn.pipeline._fit_transform_one...\n",
            "_fit_transform_one(TfidfVectorizer(analyzer='word', binary=False, decode_error='strict',\n",
            "                dtype=<class 'numpy.float64'>, encoding='utf-8',\n",
            "                input='content', lowercase=True, max_df=0.5, max_features=None,\n",
            "                min_df=1, ngram_range=(1, 1), norm='l2',\n",
            "                preprocessor=<function preprocessor at 0x7f4564919488>,\n",
            "                smooth_idf=True, stop_words=None, strip_accents=None,\n",
            "                sublinear_tf=True, token_pattern='(?u)\\\\b\\\\w\\\\w+\\\\b',\n",
            "                tokenizer=<function spacy_tokenizer at 0x7f4564031d90>,\n",
            "                use_idf=True, vocabulary=None), \n",
            "[ 'channel surfing and caught this on logo. it was one of those \\\\i have to '\n",
            "  'watch this because it\\'s so horribly bad\\\\\" moments, like roadhouse without '\n",
            "  'the joy. the writing is atrocious; completely inane and the acting is '\n",
            "  \"throw-up-in-your-mouth bad.<br /><br />there's low budget and then there is \"\n",
            "  'the abyss which is where this epic should be tossed and never seen from '\n",
            "  'again. i mean, the main characters go to a ski retreat in some rented house '\n",
            "  'and the house is, well, ordinary which is no big deal, but they choose to '\n",
            "  'show all the houseguests pouring over it like it was the sistine chapel. '\n",
            "  \"i'm sorry but watching 6 guys stare into every 10'x10' boring room ..., \n",
            "72     0\n",
            "895    1\n",
            "475    0\n",
            "145    0\n",
            "94     0\n",
            "      ..\n",
            "336    1\n",
            "82     0\n",
            "750    0\n",
            "559    0\n",
            "861    0\n",
            "Name: sentiment, Length: 800, dtype: int64, \n",
            "None, message_clsname='Pipeline', message=None)\n",
            "_______________________________________________fit_transform_one - 22.6s, 0.4min\n"
          ],
          "name": "stdout"
        },
        {
          "output_type": "stream",
          "text": [
            "/usr/local/lib/python3.6/dist-packages/sklearn/pipeline.py:315: UserWarning: Persisting input arguments took 1.74s to run.\n",
            "If this happens often in your code, it can cause performance problems \n",
            "(results will be correct in all cases). \n",
            "The reason for this is probably some large input arguments for a wrapped\n",
            " function (e.g. large strings).\n",
            "THIS IS A JOBLIB ISSUE. If you can, kindly provide the joblib's team with an\n",
            " example so that they can fix the problem.\n",
            "  **fit_params_steps[name])\n"
          ],
          "name": "stderr"
        },
        {
          "output_type": "stream",
          "text": [
            "Logistic Regression Accuracy: 0.845\n",
            "Logistic Regression Precision: 0.8469387755102041\n",
            "Logistic Regression Recall: 0.8383838383838383\n",
            "CPU times: user 29.4 s, sys: 208 ms, total: 29.6 s\n",
            "Wall time: 30.4 s\n"
          ],
          "name": "stdout"
        }
      ]
    },
    {
      "cell_type": "code",
      "metadata": {
        "id": "Oc0S6CaqWhah",
        "colab_type": "code",
        "colab": {}
      },
      "source": [
        "tfidf_filter_vector = TfidfVectorizer(tokenizer = spacy_filter_meaningfull_word_tokenizer,preprocessor=preprocessor,\n",
        "                               ngram_range=(1,1), max_df = 0.5, min_df = 1,sublinear_tf=True)\n",
        "\n",
        "log_reg = LogisticRegression(n_jobs=-1,random_state=0,C=3.5938136638046276)\n",
        "tfidf_filter_pipe =  Pipeline([(\"cleaner\", predictors()),\n",
        "                 ('vect', tfidf_filter_vector),\n",
        "                 ('clf', log_reg)],memory = Memory(location='/content/cache'))\n"
      ],
      "execution_count": 0,
      "outputs": []
    },
    {
      "cell_type": "code",
      "metadata": {
        "id": "gavVRv0rW8E2",
        "colab_type": "code",
        "colab": {
          "base_uri": "https://localhost:8080/",
          "height": 852
        },
        "outputId": "9517c543-5c99-4c31-8607-5848bd242cdf"
      },
      "source": [
        "%%time\n",
        "# Train model\n",
        "\n",
        "# model generation\n",
        "tfidf_filter_pipe.fit(X_train,y_train)\n",
        "# Predict\n",
        "\n",
        "tfidf_filter_pipe_predictions = tfidf_filter_pipe.predict(X_test)\n",
        "# Evaluate\n",
        "print(\"Logistic Regression Accuracy:\",metrics.accuracy_score(y_test, tfidf_filter_pipe_predictions))\n",
        "print(\"Logistic Regression Precision:\",metrics.precision_score(y_test, tfidf_filter_pipe_predictions))\n",
        "print(\"Logistic Regression Recall:\",metrics.recall_score(y_test, tfidf_filter_pipe_predictions))"
      ],
      "execution_count": 71,
      "outputs": [
        {
          "output_type": "stream",
          "text": [
            "________________________________________________________________________________\n",
            "[Memory] Calling sklearn.pipeline._fit_transform_one...\n",
            "_fit_transform_one(TfidfVectorizer(analyzer='word', binary=False, decode_error='strict',\n",
            "                dtype=<class 'numpy.float64'>, encoding='utf-8',\n",
            "                input='content', lowercase=True, max_df=0.5, max_features=None,\n",
            "                min_df=1, ngram_range=(1, 1), norm='l2',\n",
            "                preprocessor=<function preprocessor at 0x7f4564919488>,\n",
            "                smooth_idf=True, stop_words=None, strip_accents=None,\n",
            "                sublinear_tf=True, token_pattern='(?u)\\\\b\\\\w\\\\w+\\\\b',\n",
            "                tokenizer=<function spacy_filter_meaningfull_word_tokenizer at 0x7f4564031f28>,\n",
            "                use_idf=True, vocabulary=None), \n",
            "[ 'channel surfing and caught this on logo. it was one of those \\\\i have to '\n",
            "  'watch this because it\\'s so horribly bad\\\\\" moments, like roadhouse without '\n",
            "  'the joy. the writing is atrocious; completely inane and the acting is '\n",
            "  \"throw-up-in-your-mouth bad.<br /><br />there's low budget and then there is \"\n",
            "  'the abyss which is where this epic should be tossed and never seen from '\n",
            "  'again. i mean, the main characters go to a ski retreat in some rented house '\n",
            "  'and the house is, well, ordinary which is no big deal, but they choose to '\n",
            "  'show all the houseguests pouring over it like it was the sistine chapel. '\n",
            "  \"i'm sorry but watching 6 guys stare into every 10'x10' boring room ..., \n",
            "72     0\n",
            "895    1\n",
            "475    0\n",
            "145    0\n",
            "94     0\n",
            "      ..\n",
            "336    1\n",
            "82     0\n",
            "750    0\n",
            "559    0\n",
            "861    0\n",
            "Name: sentiment, Length: 800, dtype: int64, \n",
            "None, message_clsname='Pipeline', message=None)\n",
            "______________________________________________fit_transform_one - 519.6s, 8.7min\n"
          ],
          "name": "stdout"
        },
        {
          "output_type": "stream",
          "text": [
            "/usr/local/lib/python3.6/dist-packages/sklearn/pipeline.py:315: UserWarning: Persisting input arguments took 1.79s to run.\n",
            "If this happens often in your code, it can cause performance problems \n",
            "(results will be correct in all cases). \n",
            "The reason for this is probably some large input arguments for a wrapped\n",
            " function (e.g. large strings).\n",
            "THIS IS A JOBLIB ISSUE. If you can, kindly provide the joblib's team with an\n",
            " example so that they can fix the problem.\n",
            "  **fit_params_steps[name])\n"
          ],
          "name": "stderr"
        },
        {
          "output_type": "stream",
          "text": [
            "Logistic Regression Accuracy: 0.845\n",
            "Logistic Regression Precision: 0.8207547169811321\n",
            "Logistic Regression Recall: 0.8787878787878788\n",
            "CPU times: user 10min 44s, sys: 7.53 s, total: 10min 51s\n",
            "Wall time: 10min 53s\n"
          ],
          "name": "stdout"
        }
      ]
    },
    {
      "cell_type": "code",
      "metadata": {
        "id": "Pw0l8fd8BlfJ",
        "colab_type": "code",
        "colab": {}
      },
      "source": [
        "# Create hyperparameter options\n",
        "# Create regularization hyperparameter space\n",
        "C = np.logspace(0,5,10)\n",
        "ngram_range = [(1,1),(1,2),(1,3),(2,2),(2,3)]\n",
        "max_df = (0.25,0.5,0.75,1)\n",
        "min_df = (0.25,0.5,0.75,1)\n",
        "binary = (True,False)\n",
        "norm = ('l1','l2')\n",
        "use_idf = (True,False)\n",
        "smooth_idf = (True,False)\n",
        "sublinear_tf = (True,False)\n",
        "\n",
        "param_grid = {\n",
        "  'clf__C': C,\n",
        "  # 'vect__ngram_range': ngram_range,\n",
        "  # 'vect__max_df': max_df,'vect__min_df': min_df\n",
        "  # 'vect__binary': binary, 'vect__norm': norm,\n",
        "  # 'vect__use_idf': use_idf, 'vect__smooth_idf': smooth_idf,\n",
        "  # 'vect__sublinear_tf':  sublinear_tf\n",
        "}\n",
        "gs = GridSearchCV(tfidf_pipe, param_grid,n_jobs=-1 ,cv=5, verbose=1)\n"
      ],
      "execution_count": 0,
      "outputs": []
    },
    {
      "cell_type": "code",
      "metadata": {
        "id": "8S2FrL9nLCC5",
        "colab_type": "code",
        "colab": {}
      },
      "source": [
        "from sklearn.externals.joblib import parallel_backend\n",
        "\n",
        "# model generation\n",
        "# with parallel_backend('multiprocessing'):\n",
        "#   gs.fit(X_train,y_train)"
      ],
      "execution_count": 0,
      "outputs": []
    },
    {
      "cell_type": "code",
      "metadata": {
        "id": "s8tIyYfgL8WH",
        "colab_type": "code",
        "outputId": "2bdd32cb-6a21-40fa-f4cd-f9f9f6b15314",
        "colab": {
          "base_uri": "https://localhost:8080/",
          "height": 52
        }
      },
      "source": [
        "%%time\n",
        "# Predicting with a test dataset\n",
        "gs_predictions = gs.predict(X_test)"
      ],
      "execution_count": 0,
      "outputs": [
        {
          "output_type": "stream",
          "text": [
            "CPU times: user 24.3 s, sys: 100 ms, total: 24.4 s\n",
            "Wall time: 24.5 s\n"
          ],
          "name": "stdout"
        }
      ]
    },
    {
      "cell_type": "code",
      "metadata": {
        "id": "ZrupP63CDfnM",
        "colab_type": "code",
        "outputId": "1a15bdac-3add-4b4d-e329-3c4e8415c5e0",
        "colab": {
          "base_uri": "https://localhost:8080/",
          "height": 88
        }
      },
      "source": [
        "from sklearn import metrics\n",
        "\n",
        "\n",
        "# View best hyperparameters\n",
        "print('Best params:', gs.best_params_)\n",
        "# print('Best C:', gs.best_estimator_.get_params()['C'])\n",
        "# print('Best dual:', gs.best_estimator_.get_params()['dual'])\n",
        "# print('Best fit_intercept:', gs.best_estimator_.get_params()['fit_intercept'])\n",
        "# print('Best class_weight:', gs.best_estimator_.get_params()['class_weight'])\n",
        "# print('Best random_state:', gs.best_estimator_.get_params()['random_state'])\n",
        "# print('Best solver:', gs.best_estimator_.get_params()['solver'])\n",
        "\n",
        "\n",
        "# Model Accuracy\n",
        "print(\"Logistic Regression Accuracy:\",metrics.accuracy_score(y_test, gs_predictions))\n",
        "print(\"Logistic Regression Precision:\",metrics.precision_score(y_test, gs_predictions))\n",
        "print(\"Logistic Regression Recall:\",metrics.recall_score(y_test, gs_predictions))\n"
      ],
      "execution_count": 0,
      "outputs": [
        {
          "output_type": "stream",
          "text": [
            "Best params: {'clf__C': 3.5938136638046276}\n",
            "Logistic Regression Accuracy: 0.8805387205387205\n",
            "Logistic Regression Precision: 0.8723854911305269\n",
            "Logistic Regression Recall: 0.8905405405405405\n"
          ],
          "name": "stdout"
        }
      ]
    },
    {
      "cell_type": "code",
      "metadata": {
        "id": "qcgsonCxLguO",
        "colab_type": "code",
        "colab": {}
      },
      "source": [
        "tweets = [\n",
        "    \"This is really bad\",\n",
        "    \"I love this!\",\n",
        "    \":)\",\n",
        "]\n",
        "\n",
        "preds = clf.predict_proba(tweets)\n",
        "\n",
        "for i in range(len(tweets)):\n",
        "    print(f'{tweets[i]} --> Positive, Negative = {preds[i]}')"
      ],
      "execution_count": 0,
      "outputs": []
    },
    {
      "cell_type": "markdown",
      "metadata": {
        "id": "Hwxt0TwMX9-K",
        "colab_type": "text"
      },
      "source": [
        "#### Save Model"
      ]
    },
    {
      "cell_type": "code",
      "metadata": {
        "id": "lfdBKUEELguQ",
        "colab_type": "code",
        "colab": {
          "base_uri": "https://localhost:8080/",
          "height": 203
        },
        "outputId": "83667c25-f2dc-4acb-b9a3-1118d462b625"
      },
      "source": [
        "import pickle\n",
        "import os\n",
        "\n",
        "pickle.dump(tfidf_pipe, open(os.path.join('models', 'movie_review.pkl'), 'wb'), protocol=4)"
      ],
      "execution_count": 58,
      "outputs": [
        {
          "output_type": "error",
          "ename": "NameError",
          "evalue": "ignored",
          "traceback": [
            "\u001b[0;31m---------------------------------------------------------------------------\u001b[0m",
            "\u001b[0;31mNameError\u001b[0m                                 Traceback (most recent call last)",
            "\u001b[0;32m<ipython-input-58-ec71d6b49976>\u001b[0m in \u001b[0;36m<module>\u001b[0;34m()\u001b[0m\n\u001b[1;32m      2\u001b[0m \u001b[0;32mimport\u001b[0m \u001b[0mos\u001b[0m\u001b[0;34m\u001b[0m\u001b[0;34m\u001b[0m\u001b[0m\n\u001b[1;32m      3\u001b[0m \u001b[0;34m\u001b[0m\u001b[0m\n\u001b[0;32m----> 4\u001b[0;31m \u001b[0mpickle\u001b[0m\u001b[0;34m.\u001b[0m\u001b[0mdump\u001b[0m\u001b[0;34m(\u001b[0m\u001b[0mpipe\u001b[0m\u001b[0;34m,\u001b[0m \u001b[0mopen\u001b[0m\u001b[0;34m(\u001b[0m\u001b[0mos\u001b[0m\u001b[0;34m.\u001b[0m\u001b[0mpath\u001b[0m\u001b[0;34m.\u001b[0m\u001b[0mjoin\u001b[0m\u001b[0;34m(\u001b[0m\u001b[0;34m'models'\u001b[0m\u001b[0;34m,\u001b[0m \u001b[0;34m'movie_review.pkl'\u001b[0m\u001b[0;34m)\u001b[0m\u001b[0;34m,\u001b[0m \u001b[0;34m'wb'\u001b[0m\u001b[0;34m)\u001b[0m\u001b[0;34m,\u001b[0m \u001b[0mprotocol\u001b[0m\u001b[0;34m=\u001b[0m\u001b[0;36m4\u001b[0m\u001b[0;34m)\u001b[0m\u001b[0;34m\u001b[0m\u001b[0;34m\u001b[0m\u001b[0m\n\u001b[0m",
            "\u001b[0;31mNameError\u001b[0m: name 'pipe' is not defined"
          ]
        }
      ]
    },
    {
      "cell_type": "code",
      "metadata": {
        "id": "jPtprJPRlFhl",
        "colab_type": "code",
        "colab": {}
      },
      "source": [
        "# Evaluate model\n",
        "evaluation_data = pd.read_csv('/content/drive/My Drive/FTMLE - Tonga/Data/movie_review_evaluation.csv',sep='\\t')\n",
        "X_evaluation = evaluation_data['review']\n",
        "y_pred = tfidf_pipe.predict(X_evaluation)\n",
        "pred_sentiment = pd.DataFrame(y_pred,columns=['sentiment'])\n",
        "evaluation_data = pd.concat([X_pred,pred_sentiment], axis=1)\n",
        "evaluation_data.to_csv('/content/phuc.tran.csv')"
      ],
      "execution_count": 0,
      "outputs": []
    },
    {
      "cell_type": "markdown",
      "metadata": {
        "id": "9kf3QJIdXT6f",
        "colab_type": "text"
      },
      "source": [
        "### Addition"
      ]
    },
    {
      "cell_type": "code",
      "metadata": {
        "id": "rO-4z0kwTIXj",
        "colab_type": "code",
        "colab": {}
      },
      "source": [
        ""
      ],
      "execution_count": 0,
      "outputs": []
    }
  ]
}